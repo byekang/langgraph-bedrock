{
 "cells": [
  {
   "cell_type": "markdown",
   "metadata": {},
   "source": [
    "# 여행 예약 Multi-Agent"
   ]
  },
  {
   "cell_type": "markdown",
   "metadata": {},
   "source": [
    "### Challenges with single agents\n",
    "\n",
    "Single agent systems are not efficient for diverse tasks or for applications which may require multiple tools. Imagine input context size if have to use 100s of tools. Each tool has its own description and input/output schema. In such cases, it is difficult to use a single model that can handle all the tools.\n",
    "\n",
    "Some of the common challenges are: \n",
    "- Infelxibility: our agentic application is limited to one LLM\n",
    "- Contextual overload - too much information in the context\n",
    "- Lack of parallel processing \n",
    "- Single point of failure \n",
    "\n",
    "\n",
    "\n",
    "\n",
    "### What gets covered in this lab: \n",
    "we wil cover these aspects below:\n",
    "- `Multi Agent` collaboration \n",
    "- Leverage memory for 'turn-by-turn' conversations\n",
    "- Leverage Tools like `API's` and `RAG` for searching for answers.\n",
    "- use Human In the loop for some critical workflows "
   ]
  },
  {
   "cell_type": "markdown",
   "metadata": {},
   "source": [
    "## Multi agents\n",
    "\n",
    "In multi agent systems, each agent can have its own prompt, LLM and tools. \n",
    "\n",
    "Benefits of multi agent systems:\n",
    "- Agent can be more efficient as it has its on focused tasks\n",
    "- Logical grouping of tools can give better results\n",
    "- Easy to manage prompts for individual agents\n",
    "- Each agent can be tested and evaluated separately\n"
   ]
  },
  {
   "cell_type": "markdown",
   "metadata": {},
   "source": [
    "In this example we are going to use supervisor agentic pattern. In this pattern multiple agents are connected via supervisor agent and the conversation flows via the `supervisor` agents but each agent has its own scratchpad. \n",
    "\n",
    "The supervisor agent acts as a central coordinator in a multi-agent system, orchestrating the interactions between various specialized agents. It delegates tasks to the appropriate agents based on their capabilities and the requirements of the task at hand. \n",
    "This approach allows for more efficient processing as each agent can focus on its specific tasks, reducing the complexity and context overload that a single agent might face. The supervisor agent ensures that the system is flexible, scalable, and can handle diverse tasks by leveraging the strengths of individual agents. It also facilitates parallel processing and minimizes the risk of a single point of failure by distributing tasks across multiple agents.\n"
   ]
  },
  {
   "cell_type": "markdown",
   "metadata": {},
   "source": [
    "## Flight agent\n",
    "\n",
    "The flight agent is designed to handle various tasks related to flight booking management. It utilizes a set of  tools to perform operations such as searching for available flights, retrieving detailed booking information, modifying existing flight bookings, and canceling reservations. By leveraging these tools, the flight agent can efficiently manage flight-related queries and actions. \n",
    "\n",
    "The flight agent is equipped with a variety of tools.\n",
    "\n",
    "These tools include:\n",
    "- **Flight Search Tool**: Allows users to search for available flights between specified cities on a given date. It provides detailed information about airlines, departure and arrival times, flight duration, and pricing.\n",
    "  \n",
    "- **Booking Retrieval Tool**: Enables the retrieval of detailed booking information using a booking ID. This tool is essential for users who need to review or confirm their flight details.\n",
    "  \n",
    "- **Booking Modification Tool**: Offers the capability to modify existing flight bookings. Users can change flight dates, times, or even cancel reservations if needed.\n",
    "  \n",
    "- **Cancellation Tool**: Facilitates the cancellation of flight bookings, ensuring that users can manage their travel plans with ease.\n",
    "\n"
   ]
  },
  {
   "cell_type": "markdown",
   "metadata": {},
   "source": [
    "### Flight Search tool\n",
    "\n",
    "The `search_flights` function is a tool designed to search for flights between two specified cities. \n",
    "\n",
    "**Purpose**: This tool simulates a flight search engine, providing mock flight data for given departure and arrival cities on a specified date.\n",
    "\n",
    "**Note**: This function is designed for demonstration and testing purposes, using randomly generated data rather than real flight information.\n",
    "\n",
    "The tool provides a simulated flight search experience, allowing for the testing and development of flight booking systems or travel planning applications without accessing real flight data APIs.\n"
   ]
  },
  {
   "cell_type": "markdown",
   "metadata": {},
   "source": [
    "## Setup"
   ]
  },
  {
   "cell_type": "code",
   "execution_count": 1,
   "metadata": {
    "tags": []
   },
   "outputs": [],
   "source": [
    "# %pip install -U --no-cache-dir  \\\n",
    "# \"langchain==0.3.7\" \\\n",
    "# \"langchain-aws==0.2.6\" \\\n",
    "# \"langchain-community==0.3.5\" \\\n",
    "# \"langchain-text-splitters==0.3.2\" \\\n",
    "# \"langchainhub==0.1.20\" \\\n",
    "# \"langgraph==0.2.45\" \\\n",
    "# \"langgraph-checkpoint==2.0.2\" \\\n",
    "# \"langgraph-sdk==0.1.35\" \\\n",
    "# \"langsmith==0.1.140\" \\\n",
    "# \"pypdf==3.8,<4\" \\\n",
    "# \"ipywidgets>=7,<8\" \\\n",
    "# \"matplotlib==3.9.0\"\n"
   ]
  },
  {
   "cell_type": "code",
   "execution_count": 2,
   "metadata": {
    "tags": []
   },
   "outputs": [],
   "source": [
    "import sqlite3\n",
    "from contextlib import closing"
   ]
  },
  {
   "cell_type": "code",
   "execution_count": 4,
   "metadata": {
    "tags": []
   },
   "outputs": [],
   "source": [
    "from langchain_core.tools import tool\n",
    "import random\n",
    "from datetime import datetime, timedelta\n",
    "from langgraph.prebuilt import ToolNode\n",
    "import sqlite3\n",
    "import pandas as pd\n",
    "from langchain_core.runnables.config import RunnableConfig\n",
    "\n",
    "\n",
    "def read_travel_data(file_path: str = \"data/synthetic_travel_data.csv\") -> pd.DataFrame:\n",
    "    \"\"\"Read travel data from CSV file\"\"\"\n",
    "    try:\n",
    "        df = pd.read_csv(file_path)\n",
    "        return df\n",
    "    except FileNotFoundError:\n",
    "        return pd.DataFrame(\n",
    "            columns=[\"Id\", \"Name\", \"Current_Location\", \"Age\", \"Past_Travel_Destinations\", \"Number_of_Trips\", \"Flight_Number\", \"Departure_City\", \"Arrival_City\", \"Flight_Date\"]\n",
    "        )\n",
    "\n",
    "\n",
    "@tool\n",
    "def search_flights(config: RunnableConfig, arrival_city: str, date: str = None) -> str:\n",
    "    \"\"\"\n",
    "    Use this tool to search for flights between two cities. It knows the user's current location\n",
    "\n",
    "    Args:\n",
    "        arrival_city (str): The city of arrival\n",
    "        date (str, optional): The date of the flight in YYYY-MM-DD format. If not provided, defaults to 7 days from now.\n",
    "\n",
    "    Returns:\n",
    "        str: A formatted string containing flight information including airline, departure time, arrival time, duration, and price for multiple flights.\n",
    "    \"\"\"\n",
    "\n",
    "    df = read_travel_data()\n",
    "    user_id = config.get(\"configurable\", {}).get(\"user_id\")\n",
    "\n",
    "    if user_id not in df[\"Id\"].values:\n",
    "        return \"User not found in the travel database.\"\n",
    "\n",
    "    user_data = df[df[\"Id\"] == user_id].iloc[0]\n",
    "    current_location = user_data[\"Current_Location\"]\n",
    "\n",
    "    departure_city = current_location.capitalize()\n",
    "    arrival_city = arrival_city.capitalize()\n",
    "\n",
    "    if date is None:\n",
    "        date = (datetime.now() + timedelta(days=7)).strftime(\"%Y-%m-%d\")\n",
    "\n",
    "    # Generate mock flight data\n",
    "    num_flights = random.randint(2, 5)\n",
    "    airlines = [\"AirEurope\", \"SkyWings\", \"TransContinental\", \"EuroJet\", \"GlobalAir\"]\n",
    "    flights = []\n",
    "\n",
    "    for _ in range(num_flights):\n",
    "        airline = random.choice(airlines)\n",
    "        duration = timedelta(minutes=2)\n",
    "        price = random.randint(100, 400)\n",
    "        departure_time = datetime.strptime(date, \"%Y-%m-%d\") + timedelta(\n",
    "            hours=random.randint(0, 23), minutes=random.randint(0, 59)\n",
    "        )\n",
    "        arrival_time = departure_time + duration\n",
    "\n",
    "        flights.append(\n",
    "            {\n",
    "                \"airline\": airline,\n",
    "                \"departure\": departure_time.strftime(\"%H:%M\"),\n",
    "                \"arrival\": arrival_time.strftime(\"%H:%M\"),\n",
    "                \"duration\": str(duration),\n",
    "                \"price\": price,\n",
    "            }\n",
    "        )\n",
    "\n",
    "    # Format the results\n",
    "    import json\n",
    "\n",
    "    flight_data = {\n",
    "        \"departure_city\": departure_city,\n",
    "        \"arrival_city\": arrival_city,\n",
    "        \"date\": date,\n",
    "        \"flights\": []\n",
    "    }\n",
    "    for i, flight in enumerate(flights, 1):\n",
    "        flight_info = {\n",
    "            \"flight_number\": i,\n",
    "            \"airline\": flight['airline'],\n",
    "            \"departure\": flight['departure'],\n",
    "            \"arrival\": flight['arrival'],\n",
    "            \"duration\": str(flight['duration']),\n",
    "            \"price\": flight['price']\n",
    "        }\n",
    "        flight_data[\"flights\"].append(flight_info)\n",
    "\n",
    "    return json.dumps(flight_data) + \" FINISHED\""
   ]
  },
  {
   "cell_type": "markdown",
   "metadata": {},
   "source": [
    "### Flight Booking Retrieval Tool\n",
    "\n",
    "The `retrieve_flight_booking` function is a tool designed to fetch flight booking information from a database. \n",
    "\n",
    "**Purpose**: This tool retrieves flight booking details based on a provided booking ID\n",
    "\n",
    "**Note**: This function is designed to work with a specific database schema, assuming a 'flight_bookings' table exists with 'booking_id' as a field.\n"
   ]
  },
  {
   "cell_type": "code",
   "execution_count": 5,
   "metadata": {
    "tags": []
   },
   "outputs": [],
   "source": [
    "@tool\n",
    "def retrieve_flight_booking(booking_id: int) -> str:\n",
    "    \"\"\"\n",
    "    Retrieve a flight booking by ID\n",
    "\n",
    "    Args:\n",
    "        booking_id (int): The unique identifier of the booking to retrieve\n",
    "\n",
    "    Returns:\n",
    "        str: A string containing the booking information if found, or a message indicating no booking was found\n",
    "    \"\"\"\n",
    "    booking = None\n",
    "    with closing(sqlite3.connect(\"data/travel_bookings.db\", timeout=10.0)) as conn:\n",
    "        with closing(conn.cursor()) as cursor:\n",
    "            # Execute the query to retrieve the booking\n",
    "            cursor.execute(\"SELECT * FROM flight_bookings WHERE booking_id = ?\", (booking_id,))\n",
    "            booking = cursor.fetchone()\n",
    "        # Close the connection\n",
    "        conn.close()\n",
    "\n",
    "    if booking:\n",
    "        return f\"Booking found: {booking} FINISHED\"\n",
    "    else:\n",
    "        return f\"No booking found with ID: {booking_id} FINISHED\""
   ]
  },
  {
   "cell_type": "markdown",
   "metadata": {},
   "source": [
    "### Change Flight Booking Tool\n",
    "\n",
    "The `change_flight_booking` function is a tool designed to change flight booking information in the database. \n",
    "\n",
    "**Purpose**: This function allows for changing the departure date of an existing flight booking.\n",
    "\n",
    "**Note**: This function assumes the existence of a 'flight_bookings' table with 'booking_id' and 'departure_date' columns.\n",
    "  "
   ]
  },
  {
   "cell_type": "code",
   "execution_count": 6,
   "metadata": {
    "tags": []
   },
   "outputs": [],
   "source": [
    "@tool\n",
    "def change_flight_booking(booking_id: int, new_date: str) -> str:\n",
    "    \"\"\"\n",
    "    Change the date of a flight booking\n",
    "\n",
    "    Args:\n",
    "        booking_id (int): The unique identifier of the booking to be changed\n",
    "        new_date (str): The new date for the booking\n",
    "\n",
    "    Returns:\n",
    "        str: A message indicating the result of the booking change operation\n",
    "    \"\"\"\n",
    "    # conn = sqlite3.connect(\"data/travel_bookings.db\")\n",
    "    # cursor = conn.cursor()\n",
    "    result = \"\"\n",
    "    with closing(sqlite3.connect(\"data/travel_bookings.db\", timeout=10.0)) as conn:\n",
    "        with closing(conn.cursor()) as cursor:\n",
    "            # Execute the query to update the booking date\n",
    "            cursor.execute(\n",
    "                \"UPDATE flight_bookings SET departure_date = ? WHERE booking_id = ?\",\n",
    "                (new_date, booking_id),\n",
    "            )\n",
    "            conn.commit()\n",
    "        \n",
    "            # Check if the booking was updated\n",
    "            if cursor.rowcount > 0:\n",
    "                result = f\"Booking updated with ID: {booking_id}, new date: {new_date} FINISHED\"\n",
    "            else:\n",
    "                result = f\"No booking found with ID: {booking_id} FINISHED\"\n",
    "\n",
    "        # Close the connection\n",
    "        conn.close()\n",
    "\n",
    "    return result "
   ]
  },
  {
   "cell_type": "markdown",
   "metadata": {},
   "source": [
    "### Flight Cancellation tool\n",
    "\n",
    "The `cancel_flight_booking` function is a tool designed to cancel flight bookings in the database.\n",
    "\n",
    "**Purpose**: This function is designed to cancel an existing flight booking in the system.\n",
    "\n"
   ]
  },
  {
   "cell_type": "code",
   "execution_count": 7,
   "metadata": {
    "tags": []
   },
   "outputs": [],
   "source": [
    "@tool\n",
    "def cancel_flight_booking(booking_id: int) -> str:\n",
    "    \"\"\"\n",
    "    Cancel a flight booking. If the task complete, reply with \"FINISHED\"\n",
    "\n",
    "    Args:\n",
    "        booking_id (str): The unique identifier of the booking to be cancelled\n",
    "\n",
    "    Returns:\n",
    "        str: A message indicating the result of the booking cancellation operation\n",
    "\n",
    "    \"\"\"\n",
    "    # conn = sqlite3.connect(\"data/travel_bookings.db\")\n",
    "    # cursor  = conn.cursor()\n",
    "    result = \"\"\n",
    "    with closing(sqlite3.connect(\"data/travel_bookings.db\", timeout=10.0)) as conn:\n",
    "        with closing(conn.cursor()) as cursor:\n",
    "            cursor.execute(\"DELETE FROM flight_bookings WHERE booking_id = ?\", (booking_id,))\n",
    "            conn.commit()\n",
    "            # Check if the booking was deleted\n",
    "            if cursor.rowcount > 0:\n",
    "                result = f\"Booking canceled with ID: {booking_id} FINISHED\"\n",
    "            else:\n",
    "                result = f\"No booking found with ID: {booking_id} FINISHED\"\n",
    "        \n",
    "        # Close the connection\n",
    "        conn.close()\n",
    "\n",
    "    return result"
   ]
  },
  {
   "cell_type": "markdown",
   "metadata": {},
   "source": [
    "### Language Model\n",
    "\n",
    "The LLM powering all of our agent implementations in this lab will be Claude 3 Sonnet via Amazon Bedrock. For easy access to the model we are going to use ChatBedrockConverse class of LangChain, which is a wrapper around Bedrock's Converse API."
   ]
  },
  {
   "cell_type": "code",
   "execution_count": 8,
   "metadata": {
    "tags": []
   },
   "outputs": [],
   "source": [
    "from langchain_aws import ChatBedrockConverse\n",
    "from langchain_aws import ChatBedrock\n",
    "import boto3\n",
    "\n",
    "# ---- ⚠️ Update region for your AWS setup ⚠️ ----\n",
    "bedrock_client = boto3.client(\"bedrock-runtime\", region_name=\"us-west-2\")\n",
    "\n",
    "llm = ChatBedrockConverse(\n",
    "    model=\"anthropic.claude-3-haiku-20240307-v1:0\",\n",
    "    temperature=0,\n",
    "    max_tokens=None,\n",
    "    client=bedrock_client,\n",
    "    # other params...\n",
    ")"
   ]
  },
  {
   "cell_type": "markdown",
   "metadata": {},
   "source": [
    "### Flight Agent setup\n",
    "\n",
    "We are going to use `create_react_agent` to create a flight agent. \n",
    "\n",
    "We can customize the prompt using `state_modifier`\n",
    "\n",
    "In our case, the flight agent uses this framework to:\n",
    "- Interpret user queries about flights\n",
    "- Decide which tool (search, retrieve, change, or cancel) to use\n",
    "- Execute the chosen tool and interpret the results\n",
    "- Formulate responses based on the tool outputs\n"
   ]
  },
  {
   "cell_type": "code",
   "execution_count": 9,
   "metadata": {
    "tags": []
   },
   "outputs": [],
   "source": [
    "import functools\n",
    "import operator\n",
    "from typing import Sequence, TypedDict\n",
    "\n",
    "from langchain_core.messages import BaseMessage\n",
    "\n",
    "from langgraph.graph import END, StateGraph, START\n",
    "from langgraph.prebuilt import create_react_agent\n",
    "\n",
    "from typing import Annotated\n",
    "from langgraph.graph.message import add_messages\n",
    "from langgraph.checkpoint.memory import MemorySaver\n",
    "\n",
    "class State(TypedDict):\n",
    "    messages: Annotated[list, add_messages]\n",
    "    next: str\n",
    "\n",
    "memory = MemorySaver()\n",
    "\n",
    "\n",
    "flight_agent = create_react_agent(\n",
    "    llm,\n",
    "    tools=[\n",
    "        search_flights,\n",
    "        retrieve_flight_booking,\n",
    "        change_flight_booking,\n",
    "        cancel_flight_booking,\n",
    "    ],\n",
    "    state_modifier=\"\"\"\n",
    "    First gather all the information required to call a tool. \n",
    "    If you are not able to find the booking the do not try again and just reply with \"FINISHED\". \n",
    "    If tool has returned the results then reply with \"FINISHED\"\n",
    "    If all tasks are complete, reply with \"FINISHED\"\n",
    "    \"\"\",\n",
    "    checkpointer=memory,\n",
    ")"
   ]
  },
  {
   "cell_type": "code",
   "execution_count": 10,
   "metadata": {
    "tags": []
   },
   "outputs": [
    {
     "data": {
      "image/png": "[encoded data removed]",
      "text/plain": [
       "<IPython.core.display.Image object>"
      ]
     },
     "metadata": {},
     "output_type": "display_data"
    }
   ],
   "source": [
    "from IPython.display import Image, display\n",
    "\n",
    "display(Image(flight_agent.get_graph().draw_mermaid_png()))"
   ]
  },
  {
   "cell_type": "markdown",
   "metadata": {},
   "source": [
    "### Testing the Flight Agent\n",
    "\n",
    "Let's put the flight agent to the test with a sample query."
   ]
  },
  {
   "cell_type": "code",
   "execution_count": 11,
   "metadata": {
    "tags": []
   },
   "outputs": [
    {
     "name": "stdout",
     "output_type": "stream",
     "text": [
      "==================================\u001b[1m Ai Message \u001b[0m==================================\n",
      "\n",
      "The search results show several flight options from Nice to Amsterdam on February 26, 2025. The flights range in price from 103 to 322 euros and have very short durations of around 2 minutes. Let me know if you would like me to book one of these flights for you.\n"
     ]
    }
   ],
   "source": [
    "config = {\"configurable\": {\"thread_id\": \"127\", \"user_id\":578}}\n",
    "ret_messages = flight_agent.invoke({\"messages\": [(\"user\", \"Find flight to Amsterdam\")]}, config)\n",
    "ret_messages['messages'][-1].pretty_print()\n",
    "\n",
    "#- un coment i you want to see the full orchesteration including the tool calling\n",
    "#ret_messages"
   ]
  },
  {
   "cell_type": "markdown",
   "metadata": {},
   "source": [
    "## Hotel Agent\n",
    "\n",
    "Just like flight agent we need to create few tools, which can manage hotel bookings. We will use the same approach as we did with flight agents. \n",
    "\n",
    "The Hotel Agent will be responsible for handling various hotel-related tasks, including:\n",
    " 1. Suggesting hotels based on city and check-in date\n",
    " 2. Retrieving hotel booking details\n",
    " 3. Modifying existing hotel bookings\n",
    " 4. Cancelling hotel reservations\n",
    " \n",
    " These functionalities will be implemented as separate tools, similar to the Flight Agent. The Hotel Agent will use these tools to interact with a simulated hotel booking system.\n",
    "\n"
   ]
  },
  {
   "cell_type": "markdown",
   "metadata": {},
   "source": [
    "### Suggest hotel tool\n",
    "\n",
    "The `suggest_hotels` function is a tool designed to suggest hotels based on city and check-in date. It takes in a city name (e.g., \"New York\") and a check-in date (e.g., 2019-08-30) as input, and returns a list of suggested hotel names.\n",
    "\n",
    "**Purpose**: This tool simulates a hotel booking system that suggests hotels based on city and check-in date.\n",
    "\n",
    "**Note**: This function is designed for demonstration and testing purposes, using randomly generated data rather than real information from hotel booking system.\n"
   ]
  },
  {
   "cell_type": "code",
   "execution_count": 12,
   "metadata": {
    "tags": []
   },
   "outputs": [],
   "source": [
    "@tool\n",
    "def suggest_hotels(city: str, checkin_date: str) -> dict:\n",
    "    \"\"\"\n",
    "    Use this tool to search for hotels in these cities\n",
    "\n",
    "    Args:\n",
    "        city (str): The name of the city to search for hotels\n",
    "        checkin_date (str): The check-in date in YYYY-MM-DD format\n",
    "\n",
    "    Returns:\n",
    "        dict: A dictionary containing:\n",
    "            - hotels (list): List of hotel names in the specified city\n",
    "            - checkin_date (str): The provided check-in date\n",
    "            - checkout_date (str): A randomly generated checkout date\n",
    "            - price (int): A randomly generated price for the stay\n",
    "    \"\"\"\n",
    "    hotels = {\n",
    "        \"New York\": [\"Hotel A\", \"Hotel B\", \"Hotel C\"],\n",
    "        \"Paris\": [\"Hotel D\", \"Hotel E\", \"Hotel F\"],\n",
    "        \"Tokyo\": [\"Hotel G\", \"Hotel H\", \"Hotel I\"],\n",
    "    }\n",
    "\n",
    "    # Generate random checkout date and price\n",
    "    checkin = datetime.strptime(checkin_date, \"%Y-%m-%d\")\n",
    "    checkout = checkin + timedelta(days=random.randint(1, 10))\n",
    "    price = random.randint(100, 500)\n",
    "\n",
    "    hotel_list = hotels.get(city, [\"No hotels found\"])\n",
    "    return {\n",
    "        \"hotels\": hotel_list,\n",
    "        \"checkin_date\": checkin_date,\n",
    "        \"checkout_date\": checkout.strftime(\"%Y-%m-%d\"),\n",
    "        \"price\": price,\n",
    "    }"
   ]
  },
  {
   "cell_type": "markdown",
   "metadata": {},
   "source": [
    "### Hotel Booking Retrieval Tool\n",
    "\n",
    "The `retrieve_hotel_booking` function is a tool designed to fetch hotel booking information from a database. \n",
    "\n",
    "**Purpose**: This tool retrieves hotel booking details based on a provided booking ID\n",
    "\n",
    "**Note**: This function is designed to work with a specific database schema, assuming a 'hotel_bookings' table exists with 'booking_id' as a field."
   ]
  },
  {
   "cell_type": "code",
   "execution_count": 13,
   "metadata": {
    "tags": []
   },
   "outputs": [],
   "source": [
    "@tool\n",
    "def retrieve_hotel_booking(booking_id: int) -> str:\n",
    "    \"\"\"\n",
    "    Retrieve a hotel booking by ID\n",
    "\n",
    "    Args:\n",
    "        booking_id (int): The unique identifier of the hotel booking to retrieve\n",
    "\n",
    "    Returns:\n",
    "        str: A string containing the hotel booking information if found, or a message indicating no booking was found\n",
    "    \"\"\"\n",
    "    # conn = sqlite3.connect(\"data/travel_bookings.db\")\n",
    "    # cursor = conn.cursor()\n",
    "    booking = \"\"\n",
    "    with closing(sqlite3.connect(\"./data/travel_bookings.db\", timeout=10.0)) as conn:\n",
    "        with closing(conn.cursor()) as cursor:\n",
    "            cursor.execute(f\"SELECT * FROM hotel_bookings WHERE booking_id='{booking_id}'\")\n",
    "            booking = cursor.fetchone()\n",
    "    \n",
    "        # Close the connection\n",
    "        conn.close()\n",
    "\n",
    "    if booking:\n",
    "        return f\"Booking found: {booking}\"\n",
    "    else:\n",
    "        return f\"No booking found with ID: {booking_id}\""
   ]
  },
  {
   "cell_type": "markdown",
   "metadata": {},
   "source": [
    "### Change Hotel Booking Tool\n",
    "\n",
    "The `change_hotel_booking` function is a tool designed to change hotel booking information in the database. \n",
    "\n",
    "**Purpose**: This function allows for changing the new checkin and checkout date for the existing booking in the database.\n",
    "\n",
    "**Note**: This function assumes the existence of a 'hotel_bookings' table with 'booking_id' and 'check_in_date' columns."
   ]
  },
  {
   "cell_type": "code",
   "execution_count": 14,
   "metadata": {
    "tags": []
   },
   "outputs": [],
   "source": [
    "from datetime import datetime\n",
    "\n",
    "@tool\n",
    "def change_hotel_booking(booking_id: int, new_checkin_date: str = None, new_checkout_date: str = None) -> str:\n",
    "    \"\"\"\n",
    "    Change the dates of a hotel booking in the database. If the task completes, reply with \"FINISHED\"\n",
    "\n",
    "    Args:\n",
    "    booking_id (int): The unique identifier of the booking to be changed\n",
    "    new_checkin_date (str, optional): The new check-in date in YYYY-MM-DD format\n",
    "    new_checkout_date (str, optional): The new check-out date in YYYY-MM-DD format\n",
    "\n",
    "    Returns:\n",
    "    str: A message indicating the result of the booking change operation\n",
    "    \"\"\"\n",
    "\n",
    "    # conn = sqlite3.connect(\"data/travel_bookings.db\")  # Replace with your actual database file\n",
    "    # cursor = conn.cursor()\n",
    "\n",
    "    with closing(sqlite3.connect(\"./data/travel_bookings.db\", timeout=10.0)) as conn:\n",
    "        with closing(conn.cursor()) as cursor:\n",
    "            try:\n",
    "                # First, fetch the current booking details\n",
    "                cursor.execute(\n",
    "                    \"\"\"\n",
    "                    SELECT * FROM hotel_bookings WHERE booking_id = ?\n",
    "                \"\"\",\n",
    "                    (booking_id,),\n",
    "                )\n",
    "        \n",
    "                booking = cursor.fetchone()\n",
    "        \n",
    "                if booking is None:\n",
    "                    return f\"No hotel booking found with ID: {booking_id}\"\n",
    "        \n",
    "                # Unpack the booking details\n",
    "                ( _, user_id,user_name,city,hotel_name,check_in_date,check_out_date,nights,price_per_night,total_price,num_guests,room_type,) = booking\n",
    "        \n",
    "                # Update check-in and check-out dates if provided\n",
    "                if new_checkin_date:\n",
    "                    check_in_date = new_checkin_date\n",
    "                if new_checkout_date:\n",
    "                    check_out_date = new_checkout_date\n",
    "        \n",
    "                # Recalculate nights and total price\n",
    "                checkin = datetime.strptime(check_in_date, \"%Y-%m-%d\")\n",
    "                checkout = datetime.strptime(check_out_date, \"%Y-%m-%d\")\n",
    "                nights = (checkout - checkin).days\n",
    "                total_price = nights * price_per_night\n",
    "        \n",
    "                # Update the booking in the database\n",
    "                cursor.execute(\n",
    "                    \"\"\"\n",
    "                    UPDATE hotel_bookings\n",
    "                    SET check_in_date = ?, check_out_date = ?, nights = ?, total_price = ?\n",
    "                    WHERE booking_id = ?\n",
    "                \"\"\",\n",
    "                    (check_in_date, check_out_date, nights, total_price, booking_id),\n",
    "                )\n",
    "        \n",
    "                conn.commit()\n",
    "        \n",
    "                return f\"Hotel booking updated: Booking ID {booking_id}, New check-in: {check_in_date}, New check-out: {check_out_date}, Nights: {nights}, Total Price: {total_price} FINISHED\"\n",
    "        \n",
    "            except sqlite3.Error as e:\n",
    "                conn.rollback()\n",
    "                return f\"An error occurred: {str(e)} Booking ID {booking_id}, New check-in: {check_in_date} FINISHED\"\n",
    "        \n",
    "            finally:\n",
    "                conn.close()"
   ]
  },
  {
   "cell_type": "markdown",
   "metadata": {},
   "source": [
    "### Hotel Cancellation tool\n",
    "\n",
    "The `cancel_hotel_booking` function is a tool designed to cancel hotel bookings in the database.\n",
    "\n",
    "**Purpose**: This function is designed to cancel an existing hotel booking in the system."
   ]
  },
  {
   "cell_type": "code",
   "execution_count": 15,
   "metadata": {
    "tags": []
   },
   "outputs": [],
   "source": [
    "@tool\n",
    "def cancel_hotel_booking(booking_id: int) -> str:\n",
    "    \"\"\"\n",
    "    Cancel a hotel booking. If the task completes, reply with \"FINISHED\"\n",
    "\n",
    "    Args:\n",
    "        booking_id (str): The unique identifier of the booking to be cancelled\n",
    "\n",
    "    Returns:\n",
    "        str: A message indicating the result of the booking cancellation operation\n",
    "    \"\"\"\n",
    "    # conn = sqlite3.connect(\"data/travel_bookings.db\")\n",
    "    # cursor  = conn.cursor()\n",
    "    result=\"\"\n",
    "    with closing(sqlite3.connect(\"data/travel_bookings.db\", timeout=10.0)) as conn:\n",
    "        with closing(conn.cursor()) as cursor:\n",
    "            cursor.execute(\"DELETE FROM hotel_bookings WHERE booking_id = ?\", (booking_id,))\n",
    "            conn.commit()\n",
    "        \n",
    "            # Check if the booking was deleted\n",
    "            if cursor.rowcount > 0:\n",
    "                result = f\"Booking canceled with ID: {booking_id} FINISHED\"\n",
    "            else:\n",
    "                result = f\"No booking found with ID: {booking_id} FINISHED\"\n",
    "        \n",
    "        # Close the connection\n",
    "        conn.close()\n",
    "\n",
    "    return result"
   ]
  },
  {
   "cell_type": "markdown",
   "metadata": {},
   "source": [
    "## Hotel agent \n",
    "\n",
    "So far we have seen how to create agent using `create_react_agent` class of LangGraph, which has simplified things for us. But we need human confirmation before changing hotel booking or before cancelling hotel booking. We need our agent to ask ask for confirmation before executing these tools. We will create a custom agent that can handle these things. We will create a separate node that can handel booking cancellation or modification. Agent execution will be interrupted at this node to get the confirmation. \n",
    "\n",
    "So we will create 2 separate nodes `search` and then for `cancel` where we need `Human-in-the-loop` . The below diagram illustrates this"
   ]
  },
  {
   "cell_type": "markdown",
   "metadata": {},
   "source": [
    "### Hotel Booking Assistant Setup\n",
    "\n",
    "The `HumanApprovalToolNode` class is a custom implementation for managing hotel bookings. It extends the functionality of a standard LangChain agent by adding the ability to ask for additional information from the user when needed. \n",
    "\n",
    "The `hotel_agent` function is set up to invoke the agent which will be a `Return of Control` style which will ask the application to execute the tool. The tools bound to this agent themselves can either ToolNode or our custom HumanApprovalToolNode allowing us to easily execute this step\n",
    "\n",
    "This code sets up a hotel booking assistant using LangChain components. It includes:\n",
    "\n",
    "-  We have 2 distinct set of tools set up a nodes on the graph 1/ which need Human confirmation like cancel booking and 2/ which do not need human intervention\n",
    "-  `hotel_agent` function that manages interactions with the language model. This is set up with complete knowledge of all the tools\n",
    "- prompt template for the primary assistant, focused on hotel bookings.\n",
    "- set of hotel-related tools for tasks like suggesting hotels and managing bookings.\n",
    "- runnable object that combines the prompt, language model, and tools.\n",
    "\n",
    "The assistant can handle hotel inquiries, make suggestions, and perform booking operations.\n",
    "It also has the ability to ask for additional information when needed.\n"
   ]
  },
  {
   "cell_type": "code",
   "execution_count": 16,
   "metadata": {
    "tags": []
   },
   "outputs": [],
   "source": [
    "from langchain_core.prompts import ChatPromptTemplate\n",
    "from langchain_core.runnables import Runnable, RunnableConfig\n",
    "\n",
    "\n",
    "primary_assistant_prompt = ChatPromptTemplate.from_messages(\n",
    "    [\n",
    "        (\n",
    "            \"system\",\n",
    "            \"You are a helpful assistant who manage hotel bookings\"\n",
    "            \n",
    "        ),\n",
    "        (\"placeholder\", \"{messages}\"),\n",
    "    ]\n",
    ")\n",
    "hotel_tools = [\n",
    "    suggest_hotels,\n",
    "    retrieve_hotel_booking,\n",
    "    change_hotel_booking,\n",
    "    cancel_hotel_booking,\n",
    "]\n",
    "\n",
    "runnable_with_tools = primary_assistant_prompt | llm.bind_tools(\n",
    "    hotel_tools\n",
    ")\n",
    "\n",
    "\n",
    "def hotel_agent(state: State):\n",
    "    return {\"messages\": [runnable_with_tools.invoke(state)]}"
   ]
  },
  {
   "cell_type": "markdown",
   "metadata": {},
   "source": [
    "Now we will create 2 separate nodes for `search_and_retrieve_node` and `change_and_cancel_node`, so that we can interrupt for human approval when `change_and_cancel_node` is executed."
   ]
  },
  {
   "cell_type": "code",
   "execution_count": 17,
   "metadata": {
    "tags": []
   },
   "outputs": [],
   "source": [
    "import json\n",
    "\n",
    "from langchain_core.messages import ToolMessage\n",
    "\n",
    "\n",
    "class HumanApprovalToolNode:\n",
    "    \"\"\"A node that runs the tools requested in the last AIMessage.\"\"\"\n",
    "\n",
    "    def __init__(self, tools: list) -> None:\n",
    "        self.tools_by_name = {tool.name: tool for tool in tools}\n",
    "\n",
    "    def __call__(self, inputs: dict):\n",
    "        if messages := inputs.get(\"messages\", []):\n",
    "            message = messages[-1]\n",
    "        else:\n",
    "            raise ValueError(\"No message found in input\")\n",
    "        outputs = []\n",
    "        for tool_call in message.tool_calls:\n",
    "            user_input = input(\n",
    "                \"Do you approve of the above actions? Type 'y' to continue;\"\n",
    "                \" otherwise, explain your requested changed.\\n\\n\"\n",
    "            )\n",
    "            if user_input.lower() == \"y\":\n",
    "                tool_result = self.tools_by_name[tool_call[\"name\"]].invoke(\n",
    "                    tool_call[\"args\"]\n",
    "                )\n",
    "                outputs.append(\n",
    "                    ToolMessage(\n",
    "                        content=json.dumps(tool_result),\n",
    "                        name=tool_call[\"name\"],\n",
    "                        tool_call_id=tool_call[\"id\"],\n",
    "                    )\n",
    "                )\n",
    "            else:\n",
    "                outputs.append(\n",
    "                    ToolMessage(\n",
    "                        content=f\"API call denied by user. Reasoning: '{user_input}'. \\n FINISHED \",\n",
    "                        name=tool_call[\"name\"],\n",
    "                        tool_call_id=tool_call[\"id\"],\n",
    "                    )\n",
    "                )\n",
    "        return {\"messages\": outputs}"
   ]
  },
  {
   "cell_type": "code",
   "execution_count": 18,
   "metadata": {
    "tags": []
   },
   "outputs": [],
   "source": [
    "from langgraph.prebuilt import ToolNode, tools_condition\n",
    "\n",
    "\n",
    "search_and_retrieve_node = ToolNode([suggest_hotels, retrieve_hotel_booking])\n",
    "change_and_cancel_node = HumanApprovalToolNode(\n",
    "    [change_hotel_booking, cancel_hotel_booking]\n",
    ")"
   ]
  },
  {
   "cell_type": "markdown",
   "metadata": {},
   "source": [
    "We need to check which node is executed next. This function can check the state and decide which node to execute next of end the execution. "
   ]
  },
  {
   "cell_type": "code",
   "execution_count": 19,
   "metadata": {
    "tags": []
   },
   "outputs": [],
   "source": [
    "def should_continue(state):\n",
    "    messages = state[\"messages\"]\n",
    "    last_message = messages[-1]\n",
    "    # If there is no function call, then we finish\n",
    "    if not last_message.tool_calls:\n",
    "        return \"end\"\n",
    "    elif last_message.tool_calls[0][\"name\"] in [\n",
    "        \"change_hotel_booking\",\n",
    "        \"cancel_hotel_booking\",\n",
    "    ]:\n",
    "        return \"human_approval\"\n",
    "    # Otherwise if there is, we continue\n",
    "    else:\n",
    "        return \"continue\""
   ]
  },
  {
   "cell_type": "markdown",
   "metadata": {},
   "source": [
    "### Assembling the Hotel Agent Graph\n",
    "\n",
    "Let's add all the nodes in the graph and compile it to create our custom hotel agent.\n",
    "\n",
    "This graph will define the flow of our hotel booking system, including:\n",
    "\n",
    "1. The main hotel agent node for processing requests\n",
    "2. A tool node for executing search and retrieve hotel booking\n",
    "3. Another tool node for cancelling and changing hotel booking\n",
    "\n",
    "The graph will use conditional edges to determine the next step based on the current state, allowing for a dynamic and responsive workflow. We'll also set up memory management to maintain state across interactions."
   ]
  },
  {
   "cell_type": "code",
   "execution_count": 20,
   "metadata": {
    "tags": []
   },
   "outputs": [
    {
     "data": {
      "image/png": "[encoded data removed]",
      "text/plain": [
       "<IPython.core.display.Image object>"
      ]
     },
     "metadata": {},
     "output_type": "display_data"
    }
   ],
   "source": [
    "from langgraph.graph import END, StateGraph, MessagesState\n",
    "from IPython.display import Image, display\n",
    "\n",
    "# Create a new graph workflow\n",
    "hotel_workflow = StateGraph(MessagesState)\n",
    "\n",
    "hotel_workflow.add_node(\"hotel_agent\", hotel_agent)\n",
    "hotel_workflow.add_node(\"search_and_retrieve_node\", search_and_retrieve_node)\n",
    "hotel_workflow.add_node(\"change_and_cancel_node\", change_and_cancel_node)\n",
    "\n",
    "hotel_workflow.add_edge(START, \"hotel_agent\")\n",
    "\n",
    "# We now add a conditional edge\n",
    "hotel_workflow.add_conditional_edges(\n",
    "    \"hotel_agent\",\n",
    "    # Next, we pass in the function that will determine which node is called next.\n",
    "    should_continue,\n",
    "    {\n",
    "        # If agent decides to use `suggest_hotels` or  `retrieve_hotel_booking`\n",
    "        \"continue\": \"search_and_retrieve_node\",\n",
    "        # If agent decides to use `change_hotel_booking` or  `cancel_hotel_booking`\n",
    "        \"human_approval\": \"change_and_cancel_node\",\n",
    "        \"end\": END,\n",
    "    },\n",
    ")\n",
    "\n",
    "\n",
    "hotel_workflow.add_edge(\"search_and_retrieve_node\", \"hotel_agent\")\n",
    "hotel_workflow.add_edge(\"change_and_cancel_node\", \"hotel_agent\")\n",
    "\n",
    "# Set up memory\n",
    "from langgraph.checkpoint.memory import MemorySaver\n",
    "\n",
    "memory = MemorySaver()\n",
    "\n",
    "hotel_graph_compiled = hotel_workflow.compile(\n",
    "    checkpointer=memory\n",
    ")\n",
    "\n",
    "display(Image(hotel_graph_compiled.get_graph().draw_mermaid_png()))"
   ]
  },
  {
   "cell_type": "markdown",
   "metadata": {},
   "source": [
    "### Testing the Custom Hotel Agent\n",
    "\n",
    "Now we can test this agent "
   ]
  },
  {
   "cell_type": "code",
   "execution_count": 21,
   "metadata": {
    "tags": []
   },
   "outputs": [
    {
     "name": "stdout",
     "output_type": "stream",
     "text": [
      "================================\u001b[1m Human Message \u001b[0m=================================\n",
      "\n",
      "Get details of my booking id 203\n",
      "==================================\u001b[1m Ai Message \u001b[0m==================================\n",
      "\n",
      "[{'type': 'text', 'text': \"Okay, let's retrieve the details of the hotel booking with ID 203.\"}, {'type': 'tool_use', 'name': 'retrieve_hotel_booking', 'input': {'booking_id': 203}, 'id': 'tooluse_8SohNJQASKGxZPjQHHTqOA'}]\n",
      "Tool Calls:\n",
      "  retrieve_hotel_booking (tooluse_8SohNJQASKGxZPjQHHTqOA)\n",
      " Call ID: tooluse_8SohNJQASKGxZPjQHHTqOA\n",
      "  Args:\n",
      "    booking_id: 203\n",
      "=================================\u001b[1m Tool Message \u001b[0m=================================\n",
      "Name: retrieve_hotel_booking\n",
      "\n",
      "Booking found: (203, 384, 'Justin Sullivan', 'Vienna', 'Gomez and Sons Hotel', '2024-11-05', '2024-11-19', 14, 444.1, 6217.4, 4, 'Single')\n",
      "==================================\u001b[1m Ai Message \u001b[0m==================================\n",
      "\n",
      "The booking details are:\n",
      "- Booking ID: 203\n",
      "- Customer Name: Justin Sullivan\n",
      "- City: Vienna\n",
      "- Hotel Name: Gomez and Sons Hotel\n",
      "- Check-in Date: 2024-11-05\n",
      "- Check-out Date: 2024-11-19\n",
      "- Number of Nights: 14\n",
      "- Nightly Rate: 444.1\n",
      "- Total Price: 6217.4\n",
      "- Number of Guests: 4\n",
      "- Room Type: Single\n",
      "\n",
      "Please let me know if you need anything else!\n"
     ]
    }
   ],
   "source": [
    "import uuid\n",
    "from langchain_core.messages import ToolMessage\n",
    "thread_id = str(uuid.uuid4())\n",
    "\n",
    "_printed = set()\n",
    "config = {\"configurable\": {\"thread_id\": thread_id}}\n",
    "\n",
    "events = hotel_graph_compiled.stream(\n",
    "    {\"messages\": (\"user\", \"Get details of my booking id 203\")},\n",
    "    config,\n",
    "    stream_mode=\"values\",\n",
    ")\n",
    "for event in events:\n",
    "    event[\"messages\"][-1].pretty_print()"
   ]
  },
  {
   "cell_type": "code",
   "execution_count": 22,
   "metadata": {
    "tags": []
   },
   "outputs": [
    {
     "name": "stdout",
     "output_type": "stream",
     "text": [
      "================================\u001b[1m Human Message \u001b[0m=================================\n",
      "\n",
      "cancel my hotel booking id 203\n",
      "==================================\u001b[1m Ai Message \u001b[0m==================================\n",
      "\n",
      "[{'type': 'text', 'text': \"Okay, let's cancel your hotel booking with ID 203.\"}, {'type': 'tool_use', 'name': 'cancel_hotel_booking', 'input': {'booking_id': 203}, 'id': 'tooluse_lo9PSbmOSB6VJJSZcMaG3A'}]\n",
      "Tool Calls:\n",
      "  cancel_hotel_booking (tooluse_lo9PSbmOSB6VJJSZcMaG3A)\n",
      " Call ID: tooluse_lo9PSbmOSB6VJJSZcMaG3A\n",
      "  Args:\n",
      "    booking_id: 203\n"
     ]
    },
    {
     "name": "stdin",
     "output_type": "stream",
     "text": [
      "Do you approve of the above actions? Type 'y' to continue; otherwise, explain your requested changed.\n",
      "\n",
      " y\n"
     ]
    },
    {
     "name": "stdout",
     "output_type": "stream",
     "text": [
      "=================================\u001b[1m Tool Message \u001b[0m=================================\n",
      "Name: cancel_hotel_booking\n",
      "\n",
      "\"Booking canceled with ID: 203 FINISHED\"\n",
      "==================================\u001b[1m Ai Message \u001b[0m==================================\n",
      "\n",
      "The hotel booking with ID 203 has been successfully canceled. Let me know if you need anything else!\n"
     ]
    }
   ],
   "source": [
    "thread_id = str(uuid.uuid4())\n",
    "\n",
    "config = {\"configurable\": {\"thread_id\": thread_id}}\n",
    "\n",
    "events = hotel_graph_compiled.stream(\n",
    "    {\"messages\": (\"user\", \"cancel my hotel booking id 203\")},\n",
    "    config,\n",
    "    stream_mode=\"values\",\n",
    ")\n",
    "for event in events:\n",
    "    event[\"messages\"][-1].pretty_print()"
   ]
  },
  {
   "cell_type": "markdown",
   "metadata": {},
   "source": [
    "## Supervisor agent\n",
    "\n",
    "Now its time to create supervisor agent that will be in charge of deciding which child agent to call based on the user input and based on the conversation history. \n",
    "\n",
    "\n",
    "The Supervisor Agent is responsible for:\n",
    "1. Analyzing the conversation history and user input\n",
    "2. Deciding which child agent (flight_agent or hotel_agent) to call next\n",
    "3. Determining when to finish the conversation\n",
    "   \n",
    "We will create this agent with LangChain runnable chain created using supervisor prompt. We need to get the `next_step` from the chain and we use `with_structured_output` to return next step.\n",
    "\n",
    "The Supervisor Agent  routes  tasks and maintains the overall flow of the conversation between the user and child agents."
   ]
  },
  {
   "cell_type": "code",
   "execution_count": 23,
   "metadata": {
    "tags": []
   },
   "outputs": [],
   "source": [
    "from langchain_core.runnables import Runnable, RunnableConfig\n",
    "from langgraph.graph.message import add_messages\n",
    "from typing import Annotated, Sequence, List\n",
    "from langchain_core.messages import HumanMessage\n",
    "\n",
    "from langchain_core.prompts import ChatPromptTemplate, MessagesPlaceholder\n",
    "from langchain_core import __version__ as core_version\n",
    "from packaging import version\n",
    "\n",
    "core_version = version.parse(core_version)\n",
    "if (core_version.major, core_version.minor) < (0, 3):\n",
    "    from pydantic.v1 import BaseModel\n",
    "else:\n",
    "    from pydantic import BaseModel\n",
    "from typing import Literal\n",
    "\n",
    "members = [\"flight_agent\", \"hotel_agent\"]\n",
    "options = [\"FINISH\"] + members\n",
    "\n",
    "class routeResponse(BaseModel):\n",
    "    \"\"\"\n",
    "    Return next agent name.\n",
    "    \"\"\"\n",
    "    next: Literal[*options]\n",
    "\n",
    "\n",
    "class AskHuman(BaseModel):\n",
    "    \"\"\"Ask missing information from the user\"\"\"\n",
    "\n",
    "    question: str\n",
    "\n",
    "\n",
    "prompt = ChatPromptTemplate.from_messages(\n",
    "    [\n",
    "        (\n",
    "            \"system\",\n",
    "            \"\"\"\n",
    "        Given the conversation below who should act next?\n",
    "        1. To search or cancel flight return 'flight_agent'\n",
    "        2. To search for hotel or cancel hotel booking return 'hotel_agent'\n",
    "        3. If you have the answer return 'FINISH'\n",
    "        4. When member has finished the task, and you notice FINISHED in the message then don't repeat same member again\n",
    "        5. Do not return next which is not related to user query. Example if user is asking about flight then do not call 'hotel_agent'\n",
    "        Or should we FINISH? ONLY return one of these {options}. Do not explain the process.\n",
    "        \n",
    "        \"\"\",\n",
    "        ),\n",
    "        (\"placeholder\", \"{messages}\"),\n",
    "    ]\n",
    ").partial(options=str(options), members=\", \".join(members))\n",
    "\n",
    "supervisor_chain = prompt | llm.with_structured_output(routeResponse)\n",
    "\n",
    "def supervisor_agent(state):\n",
    "    result = supervisor_chain.invoke(state)\n",
    "    output = {\n",
    "        \"next\": result.next,\n",
    "        \"messages\": [\n",
    "            HumanMessage(\n",
    "                content=f\"Supervisor decided: {result.next}\", name=\"supervisor\"\n",
    "            )\n",
    "        ],\n",
    "    }\n",
    "    print(f\"Supervisor output: {output}\")\n",
    "    return output"
   ]
  },
  {
   "cell_type": "markdown",
   "metadata": {},
   "source": [
    "We can test our supervisor agent to check if it is returning correct next step based on the user input."
   ]
  },
  {
   "cell_type": "code",
   "execution_count": 24,
   "metadata": {
    "tags": []
   },
   "outputs": [
    {
     "name": "stdout",
     "output_type": "stream",
     "text": [
      "Supervisor output: {'next': 'flight_agent', 'messages': [HumanMessage(content='Supervisor decided: flight_agent', additional_kwargs={}, response_metadata={}, name='supervisor')]}\n"
     ]
    },
    {
     "data": {
      "text/plain": [
       "{'next': 'flight_agent',\n",
       " 'messages': [HumanMessage(content='Supervisor decided: flight_agent', additional_kwargs={}, response_metadata={}, name='supervisor')]}"
      ]
     },
     "execution_count": 24,
     "metadata": {},
     "output_type": "execute_result"
    }
   ],
   "source": [
    "supervisor_agent({\"messages\": [(\"user\", \"I want to book a flight\")]})"
   ]
  },
  {
   "cell_type": "markdown",
   "metadata": {},
   "source": [
    "## Assembling the Multi-Agent System\n",
    "\n",
    "Now it's time to put all agents together in a workflow. We will start with the `supervisor`. "
   ]
  },
  {
   "cell_type": "code",
   "execution_count": 25,
   "metadata": {
    "tags": []
   },
   "outputs": [],
   "source": [
    "class State(TypedDict):\n",
    "    messages: Annotated[list, add_messages]\n",
    "    next: str"
   ]
  },
  {
   "cell_type": "code",
   "execution_count": 26,
   "metadata": {
    "tags": []
   },
   "outputs": [
    {
     "data": {
      "text/plain": [
       "<langgraph.graph.state.StateGraph at 0x7f1b52d81850>"
      ]
     },
     "execution_count": 26,
     "metadata": {},
     "output_type": "execute_result"
    }
   ],
   "source": [
    "full_workflow = StateGraph(State)\n",
    "full_workflow.add_node(\"supervisor\", supervisor_agent)\n",
    "\n",
    "full_workflow.add_edge(START, \"supervisor\")\n"
   ]
  },
  {
   "cell_type": "markdown",
   "metadata": {},
   "source": [
    "### Creating the flight agent node \n",
    "\n",
    "We need a helper function to take output from the flight search agent and add it to the messages list in the state. "
   ]
  },
  {
   "cell_type": "code",
   "execution_count": 27,
   "metadata": {
    "tags": []
   },
   "outputs": [],
   "source": [
    "from langchain_core.messages import AIMessage\n",
    "\n",
    "def agent_node(state, agent, name):\n",
    "    result = agent.invoke(state)\n",
    "    return {\n",
    "        \"messages\": [HumanMessage(content=result[\"messages\"][-1].content, name=name)]\n",
    "    }"
   ]
  },
  {
   "cell_type": "code",
   "execution_count": 28,
   "metadata": {
    "tags": []
   },
   "outputs": [],
   "source": [
    "flight_node = functools.partial(agent_node, agent=flight_agent, name=\"flight_agent\")"
   ]
  },
  {
   "cell_type": "markdown",
   "metadata": {},
   "source": [
    "Let's add this node to the workflow\n"
   ]
  },
  {
   "cell_type": "code",
   "execution_count": 29,
   "metadata": {
    "tags": []
   },
   "outputs": [
    {
     "data": {
      "text/plain": [
       "<langgraph.graph.state.StateGraph at 0x7f1b52d81850>"
      ]
     },
     "execution_count": 29,
     "metadata": {},
     "output_type": "execute_result"
    }
   ],
   "source": [
    "full_workflow.add_node(\"flight_agent\", flight_node)"
   ]
  },
  {
   "cell_type": "markdown",
   "metadata": {},
   "source": [
    "### Adding the Hotel Agent as a Subgraph\n",
    "\n",
    "We can add `hotel_agent` as subgraph to this workflow. This is is a good example of how to use subgraphs in workflows. This also give us more control over the workflow."
   ]
  },
  {
   "cell_type": "code",
   "execution_count": 30,
   "metadata": {
    "tags": []
   },
   "outputs": [
    {
     "data": {
      "text/plain": [
       "<langgraph.graph.state.StateGraph at 0x7f1b52d81850>"
      ]
     },
     "execution_count": 30,
     "metadata": {},
     "output_type": "execute_result"
    }
   ],
   "source": [
    "full_workflow.add_node(\"hotel_agent\", hotel_graph_compiled)"
   ]
  },
  {
   "cell_type": "markdown",
   "metadata": {},
   "source": [
    "Once we get the output from hotel agent we need to make sure that it has correct structure that supervisor agent can process. For this we need to add a node to the workflow that will process the output from hotel agent."
   ]
  },
  {
   "cell_type": "code",
   "execution_count": 31,
   "metadata": {
    "tags": []
   },
   "outputs": [],
   "source": [
    "def process_output(state):\n",
    "    messages = state[\"messages\"]\n",
    "    for message in reversed(messages):\n",
    "        if isinstance(message, AIMessage) and isinstance(message.content, str):\n",
    "           print(message.content)\n",
    "           return {\n",
    "                \"messages\": [\n",
    "                    HumanMessage(content=message.content, name=\"hotel_agent\")\n",
    "                ]\n",
    "            }\n",
    "    return None"
   ]
  },
  {
   "cell_type": "code",
   "execution_count": 32,
   "metadata": {
    "tags": []
   },
   "outputs": [
    {
     "data": {
      "text/plain": [
       "<langgraph.graph.state.StateGraph at 0x7f1b52d81850>"
      ]
     },
     "execution_count": 32,
     "metadata": {},
     "output_type": "execute_result"
    }
   ],
   "source": [
    "\n",
    "full_workflow.add_node(\"process_output\", process_output)"
   ]
  },
  {
   "cell_type": "markdown",
   "metadata": {},
   "source": [
    "### Connecting the Agents\n",
    "\n",
    "Now we can add edges to the workflow that will connect all the agents. We need to add an edge from the flight agent to the supervisor, and from the hotel agent to the process output node and then to the supervisor.\n",
    "\n",
    "\n",
    "1. We'll connect the `flight_agent` directly to the `supervisor`.\n",
    "2. For the `hotel_agent`, we'll first connect it to the `process_output` node, which will format its output.\n",
    "3. The `process_output` node will then be connected to the `supervisor`.\n",
    "4. We'll set up conditional edges from the supervisor to all other agents (including itself) and to a FINISH state.\n"
   ]
  },
  {
   "cell_type": "code",
   "execution_count": 33,
   "metadata": {
    "tags": []
   },
   "outputs": [
    {
     "data": {
      "text/plain": [
       "<langgraph.graph.state.StateGraph at 0x7f1b52d81850>"
      ]
     },
     "execution_count": 33,
     "metadata": {},
     "output_type": "execute_result"
    }
   ],
   "source": [
    "full_workflow.add_edge(\"flight_agent\", \"supervisor\")\n",
    "full_workflow.add_edge(\"hotel_agent\", \"process_output\")\n",
    "full_workflow.add_edge(\"process_output\", \"supervisor\")\n",
    "\n",
    "conditional_map = {k: k for k in members}\n",
    "conditional_map[\"FINISH\"] = END\n",
    "full_workflow.add_conditional_edges(\"supervisor\", lambda x: x[\"next\"], conditional_map)"
   ]
  },
  {
   "cell_type": "code",
   "execution_count": 34,
   "metadata": {
    "tags": []
   },
   "outputs": [
    {
     "data": {
      "image/png": "[encoded data removed]",
      "text/plain": [
       "<IPython.core.display.Image object>"
      ]
     },
     "metadata": {},
     "output_type": "display_data"
    }
   ],
   "source": [
    "from IPython.display import Image, display\n",
    "\n",
    "supervisor_agent_graph = full_workflow.compile(\n",
    "    checkpointer=memory,\n",
    ")\n",
    "\n",
    "# display subgraph using xray=1\n",
    "display(Image(supervisor_agent_graph.get_graph(xray=1).draw_mermaid_png()))"
   ]
  },
  {
   "cell_type": "markdown",
   "metadata": {},
   "source": [
    "We need to create a utility function to extract tool id from the subgraph. "
   ]
  },
  {
   "cell_type": "code",
   "execution_count": 35,
   "metadata": {
    "tags": []
   },
   "outputs": [],
   "source": [
    "def extract_tool_id(pregel_task):\n",
    "    # Navigate to the messages in the state\n",
    "    messages = pregel_task.state.values.get(\"messages\", [])\n",
    "\n",
    "    # Find the last AIMessage\n",
    "    for message in reversed(messages):\n",
    "        if isinstance(message, AIMessage):\n",
    "            # Check if the message has tool_calls\n",
    "            tool_calls = getattr(message, \"tool_calls\", None)\n",
    "            if tool_calls:\n",
    "                # Return the id of the first tool call\n",
    "                return tool_calls[0][\"id\"]"
   ]
  },
  {
   "cell_type": "markdown",
   "metadata": {},
   "source": [
    "### Testing full graph\n",
    "\n",
    "Now we are ready to test the graph. We will create a unique thread_id to manage memory. We have few sample questions to test the graph. \n",
    "\n"
   ]
  },
  {
   "cell_type": "code",
   "execution_count": 36,
   "metadata": {
    "tags": []
   },
   "outputs": [
    {
     "name": "stdout",
     "output_type": "stream",
     "text": [
      "================================\u001b[1m Human Message \u001b[0m=================================\n",
      "\n",
      "Get details of my flight booking id 200\n",
      "Supervisor output: {'next': 'flight_agent', 'messages': [HumanMessage(content='Supervisor decided: flight_agent', additional_kwargs={}, response_metadata={}, name='supervisor')]}\n",
      "================================\u001b[1m Human Message \u001b[0m=================================\n",
      "Name: supervisor\n",
      "\n",
      "Supervisor decided: flight_agent\n",
      "================================\u001b[1m Human Message \u001b[0m=================================\n",
      "Name: supervisor\n",
      "\n",
      "Supervisor decided: flight_agent\n",
      "==================================\u001b[1m Ai Message \u001b[0m==================================\n",
      "\n",
      "[{'type': 'tool_use', 'name': 'retrieve_flight_booking', 'input': {'booking_id': 200}, 'id': 'tooluse_8GmtExNUTzCA99YysY88VQ'}]\n",
      "Tool Calls:\n",
      "  retrieve_flight_booking (tooluse_8GmtExNUTzCA99YysY88VQ)\n",
      " Call ID: tooluse_8GmtExNUTzCA99YysY88VQ\n",
      "  Args:\n",
      "    booking_id: 200\n",
      "=================================\u001b[1m Tool Message \u001b[0m=================================\n",
      "Name: retrieve_flight_booking\n",
      "\n",
      "Booking found: (200, 36, 'Timothy Phillips', 'Boston', 'Portland', 457.65, 335, '2024-10-11', '18:25', '2024-10-12', '00:00', 4076.53, '2024-10-05') FINISHED\n",
      "==================================\u001b[1m Ai Message \u001b[0m==================================\n",
      "\n",
      "The booking details are:\n",
      "- Booking ID: 200\n",
      "- Passenger Name: Timothy Phillips\n",
      "- Departure City: Boston\n",
      "- Arrival City: Portland\n",
      "- Ticket Price: $457.65\n",
      "- Booking Reference: 335\n",
      "- Departure Date: 2024-10-11\n",
      "- Departure Time: 18:25\n",
      "- Arrival Date: 2024-10-12\n",
      "- Arrival Time: 00:00\n",
      "- Total Booking Amount: $4076.53\n",
      "- Booking Date: 2024-10-05\n",
      "\n",
      "FINISHED\n",
      "================================\u001b[1m Human Message \u001b[0m=================================\n",
      "Name: flight_agent\n",
      "\n",
      "The booking details are:\n",
      "- Booking ID: 200\n",
      "- Passenger Name: Timothy Phillips\n",
      "- Departure City: Boston\n",
      "- Arrival City: Portland\n",
      "- Ticket Price: $457.65\n",
      "- Booking Reference: 335\n",
      "- Departure Date: 2024-10-11\n",
      "- Departure Time: 18:25\n",
      "- Arrival Date: 2024-10-12\n",
      "- Arrival Time: 00:00\n",
      "- Total Booking Amount: $4076.53\n",
      "- Booking Date: 2024-10-05\n",
      "\n",
      "FINISHED\n",
      "Supervisor output: {'next': 'FINISH', 'messages': [HumanMessage(content='Supervisor decided: FINISH', additional_kwargs={}, response_metadata={}, name='supervisor')]}\n",
      "================================\u001b[1m Human Message \u001b[0m=================================\n",
      "Name: supervisor\n",
      "\n",
      "Supervisor decided: FINISH\n"
     ]
    }
   ],
   "source": [
    "thread_id = str(uuid.uuid4())\n",
    "config = {\"configurable\": {\"thread_id\": thread_id}}\n",
    "\n",
    "events = supervisor_agent_graph.stream(\n",
    "    {\"messages\": (\"user\", \"Get details of my flight booking id 200\")},\n",
    "    config,\n",
    "    stream_mode=\"values\",\n",
    "    subgraphs=True,\n",
    ")\n",
    "for event in events:\n",
    "    event[1][\"messages\"][-1].pretty_print()"
   ]
  },
  {
   "cell_type": "markdown",
   "metadata": {},
   "source": [
    "#### If you do not want to continue with cancellelation, please use this text below\n",
    "\n",
    "`i do not want to cancel my booking`"
   ]
  },
  {
   "cell_type": "code",
   "execution_count": 37,
   "metadata": {
    "tags": []
   },
   "outputs": [
    {
     "name": "stdout",
     "output_type": "stream",
     "text": [
      "================================\u001b[1m Human Message \u001b[0m=================================\n",
      "\n",
      "cancel my hotel booking id 193\n",
      "Supervisor output: {'next': 'hotel_agent', 'messages': [HumanMessage(content='Supervisor decided: hotel_agent', additional_kwargs={}, response_metadata={}, name='supervisor')]}\n",
      "================================\u001b[1m Human Message \u001b[0m=================================\n",
      "Name: supervisor\n",
      "\n",
      "Supervisor decided: hotel_agent\n",
      "================================\u001b[1m Human Message \u001b[0m=================================\n",
      "Name: supervisor\n",
      "\n",
      "Supervisor decided: hotel_agent\n",
      "==================================\u001b[1m Ai Message \u001b[0m==================================\n",
      "\n",
      "[{'type': 'tool_use', 'name': 'cancel_hotel_booking', 'input': {'booking_id': 193}, 'id': 'tooluse_5pjlncBsQTeG1T1pjrf4xQ'}]\n",
      "Tool Calls:\n",
      "  cancel_hotel_booking (tooluse_5pjlncBsQTeG1T1pjrf4xQ)\n",
      " Call ID: tooluse_5pjlncBsQTeG1T1pjrf4xQ\n",
      "  Args:\n",
      "    booking_id: 193\n"
     ]
    },
    {
     "name": "stdin",
     "output_type": "stream",
     "text": [
      "Do you approve of the above actions? Type 'y' to continue; otherwise, explain your requested changed.\n",
      "\n",
      " y\n"
     ]
    },
    {
     "name": "stdout",
     "output_type": "stream",
     "text": [
      "=================================\u001b[1m Tool Message \u001b[0m=================================\n",
      "Name: cancel_hotel_booking\n",
      "\n",
      "\"Booking canceled with ID: 193 FINISHED\"\n",
      "==================================\u001b[1m Ai Message \u001b[0m==================================\n",
      "\n",
      "I have successfully canceled the hotel booking with ID 193.\n",
      "==================================\u001b[1m Ai Message \u001b[0m==================================\n",
      "\n",
      "I have successfully canceled the hotel booking with ID 193.\n",
      "I have successfully canceled the hotel booking with ID 193.\n",
      "================================\u001b[1m Human Message \u001b[0m=================================\n",
      "Name: hotel_agent\n",
      "\n",
      "I have successfully canceled the hotel booking with ID 193.\n",
      "Supervisor output: {'next': 'FINISH', 'messages': [HumanMessage(content='Supervisor decided: FINISH', additional_kwargs={}, response_metadata={}, name='supervisor')]}\n",
      "================================\u001b[1m Human Message \u001b[0m=================================\n",
      "Name: supervisor\n",
      "\n",
      "Supervisor decided: FINISH\n"
     ]
    }
   ],
   "source": [
    "thread_id = str(uuid.uuid4())\n",
    "config = {\"configurable\": {\"thread_id\": thread_id}}\n",
    "\n",
    "events = supervisor_agent_graph.stream(\n",
    "    {\"messages\": (\"user\", \"cancel my hotel booking id 193\")},\n",
    "    config,\n",
    "    stream_mode=\"values\",\n",
    "    subgraphs=True,\n",
    ")\n",
    "for event in events:\n",
    "    event[1][\"messages\"][-1].pretty_print()"
   ]
  },
  {
   "cell_type": "markdown",
   "metadata": {},
   "source": [
    "#### in case you need to see the contents of the hotel database\n",
    "\n",
    "hotel database\n"
   ]
  },
  {
   "cell_type": "code",
   "execution_count": 38,
   "metadata": {
    "tags": []
   },
   "outputs": [
    {
     "name": "stdout",
     "output_type": "stream",
     "text": [
      "(1, 425, 'Crystal Haley', 'Budapest', 'Wilson, Ramos and Adams Hotel', '2024-10-21', '2024-11-01', 11, 256.07, 2816.77, 4, 'Double')\n",
      "(2, 193, 'Ashley Duran', 'Miami', 'Reed, Washington and Lopez Hotel', '2024-11-11', '2024-11-12', 1, 241.8, 241.8, 1, 'Deluxe')\n",
      "(3, 148, 'Ashley Jackson MD', 'Seville', 'Jones, Quinn and Newton Hotel', '2024-10-18', '2024-10-23', 5, 168.25, 841.25, 1, 'Single')\n",
      "(4, 291, 'William Lowery', 'Portland', 'Ramirez-Barron Hotel', '2024-10-19', '2024-10-23', 4, 172.22, 688.88, 2, 'Single')\n",
      "(5, 131, 'Jason Gonzalez', 'Rome', 'Spencer Ltd Hotel', '2024-11-20', '2024-11-21', 1, 294.71, 294.71, 1, 'Double')\n"
     ]
    }
   ],
   "source": [
    "import sqlite3\n",
    "from contextlib import closing\n",
    "\n",
    "\n",
    "with closing(sqlite3.connect(\"data/travel_bookings.db\", timeout=10.0)) as conn:\n",
    "    with closing(conn.cursor()) as cursor:\n",
    "        cursor.execute(\"\"\"SELECT * FROM hotel_bookings\"\"\")\n",
    "        #cursor.execute(\"\"\"SELECT * FROM hotel_bookings where booking_id='203'\"\"\")\n",
    "        for idx in range(5):\n",
    "            print(cursor.fetchone())\n",
    "    conn.close()"
   ]
  },
  {
   "cell_type": "markdown",
   "metadata": {},
   "source": [
    "flights database"
   ]
  },
  {
   "cell_type": "code",
   "execution_count": 39,
   "metadata": {
    "tags": []
   },
   "outputs": [
    {
     "name": "stdout",
     "output_type": "stream",
     "text": [
      "(1, 52, 'Dawn Wong', 'Portland', 'San Francisco', 136.1, 94, '2024-10-29', '15:11', '2024-10-29', '16:45', 860.98, '2024-10-11')\n",
      "(2, 496, 'Michael Price', 'Denver', 'Washington', 289.65, 209, '2024-10-22', '10:45', '2024-10-22', '14:14', 2396.53, '2024-10-01')\n",
      "(3, 371, 'Jason Clark', 'San Francisco', 'Copenhagen', 928.44, 688, '2024-10-06', '07:34', '2024-10-06', '19:02', 8784.43, '2024-09-30')\n",
      "(4, 489, 'Melissa Hanson', 'Venice', 'San Diego', 1044.52, 775, '2024-10-11', '10:04', '2024-10-11', '22:59', 9945.21, '2024-10-02')\n",
      "(5, 68, 'Elizabeth Smith', 'Vienna', 'Berlin', 102.35, 69, '2024-10-27', '13:08', '2024-10-27', '14:17', 523.54, '2024-10-01')\n"
     ]
    }
   ],
   "source": [
    "import sqlite3\n",
    "from contextlib import closing\n",
    "\n",
    "\n",
    "with closing(sqlite3.connect(\"data/travel_bookings.db\", timeout=10.0)) as conn:\n",
    "    with closing(conn.cursor()) as cursor:\n",
    "        cursor.execute(\"\"\"SELECT * FROM flight_bookings\"\"\")\n",
    "        #cursor.execute(\"\"\"SELECT * FROM hotel_bookings where booking_id='203'\"\"\")\n",
    "        for idx in range(5):\n",
    "            print(cursor.fetchone())\n",
    "    conn.close()"
   ]
  },
  {
   "cell_type": "markdown",
   "metadata": {},
   "source": [
    "\n",
    "## Conclusion\n",
    "\n",
    "In this lab we have seen implementation of a multi-agent system for travel booking using LangGraph. The implementation showcases several key concepts:\n",
    "\n",
    "1. **Multi-Agent Architecture**: The system effectively divides responsibilities between specialized agents (Flight and Hotel agents) coordinated by a Supervisor agent, demonstrating how complex tasks can be broken down into manageable components\n",
    "\n",
    "2. **Subgraph Pattern**: The Hotel agent implementation as a subgraph shows how complex agent behaviors can be encapsulated and managed independently, while still integrating seamlessly with the larger system\n",
    "\n",
    "3. **Tool Integration**: Each agent has access to specific tools relevant to its domain, showing how specialized capabilities can be effectively distributed across different agents\n",
    "\n",
    "4. **Supervisor Pattern**: The supervisor agent demonstrates effective orchestration of multiple specialized agents, making decisions about task routing and completion\n",
    "\n",
    "5. **State Management**: The implementation shows how to manage state across multiple agents and handle complex interactions between them\n",
    "\n",
    "Key benefits of this approach include:\n",
    "- Improved modularity and maintainability\n",
    "- Better separation of concerns\n",
    "- Efficient handling of domain-specific tasks\n",
    "- Flexible architecture that can be extended with additional agents\n",
    "\n",
    "This pattern can be adapted for various complex applications where multiple specialized agents need to work together to accomplish a larger goal."
   ]
  },
  {
   "cell_type": "code",
   "execution_count": null,
   "metadata": {},
   "outputs": [],
   "source": []
  }
 ],
 "metadata": {
  "kernelspec": {
   "display_name": "conda_my_python311",
   "language": "python",
   "name": "conda_my_python311"
  },
  "language_info": {
   "codemirror_mode": {
    "name": "ipython",
    "version": 3
   },
   "file_extension": ".py",
   "mimetype": "text/x-python",
   "name": "python",
   "nbconvert_exporter": "python",
   "pygments_lexer": "ipython3",
   "version": "3.11.11"
  }
 },
 "nbformat": 4,
 "nbformat_minor": 4
}
