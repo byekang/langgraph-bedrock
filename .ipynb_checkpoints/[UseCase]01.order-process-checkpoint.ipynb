{
 "cells": [
  {
   "cell_type": "markdown",
   "id": "d50e8c3d-c05c-4faf-bf26-9c1efe26d97c",
   "metadata": {
    "tags": []
   },
   "source": [
    "# 주문 처리 Multi-Agent 실습"
   ]
  },
  {
   "cell_type": "markdown",
   "id": "fbd84949-0481-4d4f-a0ad-179d656198a7",
   "metadata": {},
   "source": [
    "# Import required libraries"
   ]
  },
  {
   "cell_type": "code",
   "execution_count": 1,
   "id": "8652b197-3779-4b3c-9caa-6697f4e33c72",
   "metadata": {
    "tags": []
   },
   "outputs": [],
   "source": [
    "# Import required libraries\n",
    "import os\n",
    "import pandas as pd\n",
    "import random\n",
    "from langchain_core.tools import tool\n",
    "from langchain_openai import ChatOpenAI\n",
    "from langgraph.prebuilt import ToolNode\n",
    "from langgraph.graph import StateGraph, MessagesState, START, END\n",
    "from langchain_core.runnables.graph import MermaidDrawMethod\n",
    "from IPython.display import display, Image\n",
    "from typing import Literal\n",
    "from langchain_core.prompts import ChatPromptTemplate\n",
    "from typing import Dict, TypedDict"
   ]
  },
  {
   "cell_type": "markdown",
   "id": "e433ab81-f92f-4240-bd9c-3e228c9d17c6",
   "metadata": {},
   "source": [
    "# Data Loading and State Definition"
   ]
  },
  {
   "cell_type": "code",
   "execution_count": 3,
   "id": "453f2b93-3b4e-4d88-93a4-1419427fc536",
   "metadata": {
    "tags": []
   },
   "outputs": [],
   "source": [
    "# Load datasets\n",
    "inventory_df = pd.read_csv(\"inventory.csv\")\n",
    "customers_df = pd.read_csv(\"customers.csv\")\n",
    "\n",
    "# Convert datasets to dictionaries\n",
    "inventory = inventory_df.set_index(\"item_id\").T.to_dict()\n",
    "customers = customers_df.set_index(\"customer_id\").T.to_dict()"
   ]
  },
  {
   "cell_type": "code",
   "execution_count": 4,
   "id": "4b93b581-4481-4fbc-bbed-fb781f859b5e",
   "metadata": {
    "tags": []
   },
   "outputs": [],
   "source": [
    "class State(TypedDict):\n",
    "    query: str\n",
    "    category: str\n",
    "    next_node: str\n",
    "    item_id: str\n",
    "    order_status: str\n",
    "    cost: str\n",
    "    payment_status: str\n",
    "    location: str\n",
    "    quantity: int"
   ]
  },
  {
   "cell_type": "markdown",
   "id": "f7fffdbd-ea07-413c-b0a5-31b5576d2190",
   "metadata": {},
   "source": [
    "# Bedrock Configuration"
   ]
  },
  {
   "cell_type": "code",
   "execution_count": 5,
   "id": "dddc0174-6056-4e11-a751-8141bc039374",
   "metadata": {
    "tags": []
   },
   "outputs": [],
   "source": [
    "import boto3\n",
    "from botocore.config import Config"
   ]
  },
  {
   "cell_type": "code",
   "execution_count": 6,
   "id": "31fb95b7-23cc-4341-8855-0e1b3b911b25",
   "metadata": {
    "tags": []
   },
   "outputs": [],
   "source": [
    "aws_region = os.getenv(\"AWS_REGION\")"
   ]
  },
  {
   "cell_type": "code",
   "execution_count": 7,
   "id": "8345c9a0-815c-47b7-8433-35013b61f085",
   "metadata": {
    "tags": []
   },
   "outputs": [],
   "source": [
    "# Set bedrock configs\n",
    "bedrock_config = Config(\n",
    "    connect_timeout=120, read_timeout=120, retries={\"max_attempts\": 0}\n",
    ")\n",
    "\n",
    "# Create a bedrock runtime client\n",
    "bedrock_rt = boto3.client(\n",
    "    \"bedrock-runtime\", region_name=aws_region, config=bedrock_config\n",
    ")\n",
    "\n",
    "# Create a bedrock client to check available models\n",
    "bedrock = boto3.client(\"bedrock\", region_name=aws_region, config=bedrock_config)"
   ]
  },
  {
   "cell_type": "code",
   "execution_count": 8,
   "id": "1af8c109-8e02-4e5b-a3ac-7a6e0a3443d4",
   "metadata": {
    "tags": []
   },
   "outputs": [],
   "source": [
    "from langchain_aws import ChatBedrockConverse"
   ]
  },
  {
   "cell_type": "markdown",
   "id": "6a5a97fa-31c5-4b0a-be70-d4ba260fcd94",
   "metadata": {
    "tags": []
   },
   "source": [
    "# Creating Tools and LLM Integration"
   ]
  },
  {
   "cell_type": "code",
   "execution_count": 9,
   "id": "c98016b2-5373-4d5c-9f3f-9850b9a09e99",
   "metadata": {
    "tags": []
   },
   "outputs": [],
   "source": [
    "from typing import Dict, TypedDict\n",
    "\n",
    "class OrderId(TypedDict):\n",
    "    '''OrderId structure.'''\n",
    "    order_id: str"
   ]
  },
  {
   "cell_type": "code",
   "execution_count": 10,
   "id": "d218e87b-a572-44cf-89aa-205fabc68d67",
   "metadata": {
    "tags": []
   },
   "outputs": [],
   "source": [
    "@tool\n",
    "def cancel_order(query: str) -> dict:\n",
    "    \"\"\"Simulate order cancelling\"\"\"\n",
    "    \n",
    "    print(f'@@@ Debug @@@: currently in cancel_order')\n",
    "    \n",
    "    order_id = llm.with_structured_output(OrderId).invoke(f'Extract order_id from the following text in json format: {query}')['order_id']\n",
    "    print(order_id)\n",
    "    #amount = query.get(\"amount\")\n",
    "    \n",
    "    print(order_id)\n",
    "\n",
    "    if not order_id:\n",
    "        return {\"error\": \"Missing 'order_id'.\"}\n",
    "\n",
    "    print(f'@@@ About to cancel order_id: {order_id}')\n",
    "    \n",
    "    return {\"order_status\": \"Order stands cancelled\"}\n",
    "\n",
    "# Initialize LLM and bind tools\n",
    "#llm = ChatOpenAI(model=\"gpt-4o-mini\", temperature=0)\n",
    "llm = ChatBedrockConverse(\n",
    "    client=bedrock_rt,\n",
    "    model=\"anthropic.claude-3-haiku-20240307-v1:0\",\n",
    "    temperature=0,\n",
    "    max_tokens=None,\n",
    ")\n",
    "\n",
    "tools_2 = [cancel_order]\n",
    "llm_with_tools_2 = llm.bind_tools(tools_2)\n",
    "tool_node_2 = ToolNode(tools_2)"
   ]
  },
  {
   "cell_type": "markdown",
   "id": "f622922e-83a5-47fb-9fb2-54cdcc096e5e",
   "metadata": {},
   "source": [
    "# Defining Workflow Nodes"
   ]
  },
  {
   "cell_type": "code",
   "execution_count": 11,
   "id": "20d0ea32-3226-43ec-90aa-5d54e44b47f3",
   "metadata": {
    "tags": []
   },
   "outputs": [],
   "source": [
    "def call_model_2(state: MessagesState):\n",
    "    \"\"\"Use the LLM to decide the next step.\"\"\"\n",
    "    messages = state[\"messages\"]\n",
    "    response = llm_with_tools_2.invoke(str(messages))\n",
    "    return {\"messages\": [response]}\n",
    "\n",
    "def call_tools_2(state: MessagesState) -> Literal[\"tools_2\", END]:\n",
    "    \"\"\"Route workflow based on tool calls.\"\"\"\n",
    "    messages = state[\"messages\"]\n",
    "    last_message = messages[-1]\n",
    "\n",
    "    if last_message.tool_calls:\n",
    "        return \"tools_2\"\n",
    "    return END"
   ]
  },
  {
   "cell_type": "markdown",
   "id": "8598dae1-300d-4298-8be0-5739cda51770",
   "metadata": {},
   "source": [
    "# Categorize Query"
   ]
  },
  {
   "cell_type": "code",
   "execution_count": 12,
   "id": "06dbc324-7c8d-4ef3-b965-7c3b1452a01d",
   "metadata": {
    "tags": []
   },
   "outputs": [],
   "source": [
    "def categorize_query(state: MessagesState) -> MessagesState:\n",
    "    \"\"\"Categorize user query into PlaceOrder or CancelOrder\"\"\"\n",
    "    prompt = ChatPromptTemplate.from_template(\n",
    "        \"Categorize user query into PlaceOrder or CancelOrder.\"\n",
    "        \"Respond with either 'PlaceOrder', 'CancelOrder'. Answer with only a word without sentences for example, 'PlaceOrder' or 'CancelOrder'. \"\n",
    "        \" Query: {state}\"\n",
    "    )\n",
    "\n",
    "    chain = prompt | llm\n",
    "    category = chain.invoke({\"state\": state}).content\n",
    "    \n",
    "    return {\"query\":state,\"category\": category}"
   ]
  },
  {
   "cell_type": "markdown",
   "id": "3f599e77-56e3-426f-b281-b7c2526e1c97",
   "metadata": {},
   "source": [
    "# Check Inventory"
   ]
  },
  {
   "cell_type": "code",
   "execution_count": 13,
   "id": "cb677bf9-5ebf-494f-8696-5cfe4aec0326",
   "metadata": {
    "tags": []
   },
   "outputs": [],
   "source": [
    "from typing import Dict, TypedDict\n",
    "\n",
    "class ItemId(TypedDict):\n",
    "    '''ItemId structure.'''\n",
    "    item_id: str\n",
    "\n",
    "class Quantity(TypedDict):\n",
    "    '''Quantity structure.'''\n",
    "    quantity: int\n",
    "\n",
    "class CustomerId(TypedDict):\n",
    "    '''Quantity structure.'''\n",
    "    customer_id: str"
   ]
  },
  {
   "cell_type": "code",
   "execution_count": 14,
   "id": "6c0f92ff-51e2-4d15-af4e-a41a71173ff7",
   "metadata": {
    "tags": []
   },
   "outputs": [],
   "source": [
    "def check_inventory(state: MessagesState) -> MessagesState:\n",
    "    \"\"\"Check if the requested item is in stock.\"\"\"\n",
    "\n",
    "    print(f'@@@ Debug @@@: currently in check_inventory)')\n",
    "    \n",
    "    #item_id_schema = { \"item_id\": str }\n",
    "    #quantity_schema = { \"quantity\": str }\n",
    "    item_id = llm.with_structured_output(ItemId).invoke(f'Extract item_id from the following text in json format: {state}')['item_id']\n",
    "    quantity = llm.with_structured_output(Quantity).invoke(f'Extract quantity from the following text in json format: {state}')['quantity']\n",
    "\n",
    "    if not item_id or not quantity:\n",
    "        return {\"error\": \"Missing 'item_id' or 'quantity'.\"}\n",
    "\n",
    "    if inventory.get(item_id, {}).get(\"stock\", 0) >= quantity:\n",
    "        print(\"IN STOCK\")\n",
    "        print(MessagesState)\n",
    "        #return {\"status\": \"In Stock\"}\n",
    "        return {\"query\":state,\"order_status\": \"In Stock\"}\n",
    "    return {\"query\":state,\"order_status\": \"Out of Stock\"}"
   ]
  },
  {
   "cell_type": "markdown",
   "id": "9132abc7-29a9-4789-b695-2754a4a886a5",
   "metadata": {},
   "source": [
    "# Compute Shipping"
   ]
  },
  {
   "cell_type": "code",
   "execution_count": 15,
   "id": "9c6931d5-308f-480a-8205-fb6b2efcfd90",
   "metadata": {
    "tags": []
   },
   "outputs": [],
   "source": [
    "def compute_shipping(state: MessagesState) -> MessagesState:\n",
    "    \"\"\"Calculate shipping costs.\"\"\"\n",
    "    \n",
    "    print(f'@@@ Debug @@@: currently in compute_shipping)')\n",
    "    \n",
    "    item_id = llm.with_structured_output(ItemId).invoke(f'Extract item_id from the following text in json format: {state}')['item_id']\n",
    "    quantity = llm.with_structured_output(Quantity).invoke(f'Extract quantity from the following text in json format: {state}')['quantity']\n",
    "    customer_id = llm.with_structured_output(CustomerId).invoke(f'Extract customer_id from the following text in json format: {state}')['customer_id']\n",
    "    location = customers[customer_id]['location']\n",
    "\n",
    "\n",
    "    if not item_id or not quantity or not location:\n",
    "        return {\"error\": \"Missing 'item_id', 'quantity', or 'location'.\"}\n",
    "\n",
    "    weight_per_item = inventory[item_id][\"weight\"]\n",
    "    total_weight = weight_per_item * quantity\n",
    "    rates = {\"local\": 5, \"domestic\": 10, \"international\": 20}\n",
    "    cost = total_weight * rates.get(location, 10)\n",
    "    print(cost,location)\n",
    "\n",
    "    return {\"query\":state,\"cost\": f\"${cost:.2f}\"}"
   ]
  },
  {
   "cell_type": "markdown",
   "id": "1d9077c2-9502-416e-b459-ef09057970bc",
   "metadata": {},
   "source": [
    "# Process Payment"
   ]
  },
  {
   "cell_type": "code",
   "execution_count": 16,
   "id": "9b694c43-e19e-4a3e-add9-f3295918915a",
   "metadata": {
    "tags": []
   },
   "outputs": [],
   "source": [
    "class Cost(TypedDict):\n",
    "    '''Quantity structure.'''\n",
    "    cost: int"
   ]
  },
  {
   "cell_type": "code",
   "execution_count": 17,
   "id": "6a430dea-a07b-4861-8d42-3629447364ae",
   "metadata": {
    "tags": []
   },
   "outputs": [],
   "source": [
    "def process_payment(state: State) -> State:\n",
    "    \"\"\"Simulate payment processing.\"\"\"\n",
    "    cost = llm.with_structured_output(Cost).invoke(f'Extract cost from the following text in json format: {state}')\n",
    "\n",
    "    if not cost:\n",
    "        return {\"error\": \"Missing 'amount'.\"}\n",
    "    print(f\"PAYMENT PROCESSED: {cost} and order successfully placed!\")\n",
    "    payment_outcome = random.choice([\"Success\", \"Failed\"])\n",
    "    return {\"payment_status\": payment_outcome}"
   ]
  },
  {
   "cell_type": "markdown",
   "id": "d7948fda-f3e1-4c1d-9a7d-3b8bbd2cbd6a",
   "metadata": {},
   "source": [
    "# Routing Function"
   ]
  },
  {
   "cell_type": "code",
   "execution_count": 18,
   "id": "bc58b045-395a-4de4-addb-94eeb6db6ce0",
   "metadata": {
    "tags": []
   },
   "outputs": [],
   "source": [
    "def route_query_1(state: State) -> str:\n",
    "    \"\"\"Route the query based on its category.\"\"\"\n",
    "    print(f'@@@ Debug @@@: currently in route_query_1)')\n",
    "    print(state)\n",
    "    if state[\"category\"] == \"PlaceOrder\":\n",
    "        return \"PlaceOrder\"\n",
    "    elif state[\"category\"] == \"CancelOrder\":\n",
    "        return \"CancelOrder\""
   ]
  },
  {
   "cell_type": "markdown",
   "id": "985079c0-5684-4af3-9f85-c145324c3cd4",
   "metadata": {},
   "source": [
    "# Building the Workflow Graph"
   ]
  },
  {
   "cell_type": "code",
   "execution_count": 19,
   "id": "39a54e17-b543-4517-9704-a4e0613f65d6",
   "metadata": {
    "tags": []
   },
   "outputs": [
    {
     "data": {
      "text/plain": [
       "<langgraph.graph.state.StateGraph at 0x7fbc97b40b90>"
      ]
     },
     "execution_count": 19,
     "metadata": {},
     "output_type": "execute_result"
    }
   ],
   "source": [
    "# Create the workflow\n",
    "workflow = StateGraph(MessagesState)\n",
    "\n",
    "#Add nodes\n",
    "workflow.add_node(\"RouteQuery\", categorize_query)\n",
    "workflow.add_node(\"CheckInventory\", check_inventory)\n",
    "workflow.add_node(\"ComputeShipping\", compute_shipping)\n",
    "workflow.add_node(\"ProcessPayment\", process_payment)\n",
    "\n",
    "workflow.add_conditional_edges(\n",
    "    \"RouteQuery\",\n",
    "    route_query_1,\n",
    "    {\n",
    "        \"PlaceOrder\": \"CheckInventory\",\n",
    "        \"CancelOrder\": \"CancelOrder\"\n",
    "    }\n",
    ")\n",
    "workflow.add_node(\"CancelOrder\", call_model_2)\n",
    "workflow.add_node(\"tools_2\", tool_node_2)\n",
    "\n",
    "\n",
    "# Define edges\n",
    "\n",
    "workflow.add_edge(START, \"RouteQuery\")\n",
    "workflow.add_edge(\"CheckInventory\", \"ComputeShipping\")\n",
    "workflow.add_edge(\"ComputeShipping\", \"ProcessPayment\")\n",
    "workflow.add_conditional_edges(\"CancelOrder\", call_tools_2)\n",
    "workflow.add_edge(\"tools_2\", \"CancelOrder\")\n",
    "workflow.add_edge(\"ProcessPayment\", END)"
   ]
  },
  {
   "cell_type": "markdown",
   "id": "a0e61087-18c0-421b-8350-41072a0caea0",
   "metadata": {},
   "source": [
    "# Visualizing and Testing the Workflow"
   ]
  },
  {
   "cell_type": "code",
   "execution_count": 20,
   "id": "25ba9f5e-b427-4cbf-a016-b86d5c42b49b",
   "metadata": {
    "tags": []
   },
   "outputs": [
    {
     "data": {
      "image/png": "[encoded data removed]",
      "text/plain": [
       "<IPython.core.display.Image object>"
      ]
     },
     "metadata": {},
     "output_type": "display_data"
    }
   ],
   "source": [
    "# Compile the workflow\n",
    "agent = workflow.compile()\n",
    "\n",
    "# Visualize the workflow\n",
    "mermaid_graph = agent.get_graph()\n",
    "mermaid_png = mermaid_graph.draw_mermaid_png(draw_method=MermaidDrawMethod.API)\n",
    "display(Image(mermaid_png))"
   ]
  },
  {
   "cell_type": "code",
   "execution_count": 21,
   "id": "4237d3a6-0c99-440c-982f-7856bbb96df5",
   "metadata": {
    "tags": []
   },
   "outputs": [
    {
     "name": "stdout",
     "output_type": "stream",
     "text": [
      "================================\u001b[1m Human Message \u001b[0m=================================\n",
      "\n",
      "I wish to cancel order_id 223\n",
      "@@@ Debug @@@: currently in route_query_1)\n",
      "{'query': {'messages': [HumanMessage(content='I wish to cancel order_id 223', additional_kwargs={}, response_metadata={}, id='72fe2b01-a77b-44ba-bec6-6210b2192ac0')]}, 'category': 'CancelOrder', 'messages': [HumanMessage(content='I wish to cancel order_id 223', additional_kwargs={}, response_metadata={}, id='72fe2b01-a77b-44ba-bec6-6210b2192ac0')]}\n",
      "================================\u001b[1m Human Message \u001b[0m=================================\n",
      "\n",
      "I wish to cancel order_id 223\n",
      "==================================\u001b[1m Ai Message \u001b[0m==================================\n",
      "\n",
      "[{'type': 'text', 'text': \"Okay, let's cancel the order with ID 223.\"}, {'type': 'tool_use', 'name': 'cancel_order', 'input': {'query': 'order_id 223'}, 'id': 'tooluse_NW03alvBQmiDSvYJJCgk7g'}]\n",
      "Tool Calls:\n",
      "  cancel_order (tooluse_NW03alvBQmiDSvYJJCgk7g)\n",
      " Call ID: tooluse_NW03alvBQmiDSvYJJCgk7g\n",
      "  Args:\n",
      "    query: order_id 223\n",
      "@@@ Debug @@@: currently in cancel_order\n",
      "223\n",
      "223\n",
      "@@@ About to cancel order_id: 223\n",
      "=================================\u001b[1m Tool Message \u001b[0m=================================\n",
      "Name: cancel_order\n",
      "\n",
      "{\"order_status\": \"Order stands cancelled\"}\n",
      "==================================\u001b[1m Ai Message \u001b[0m==================================\n",
      "\n",
      "[{'type': 'tool_use', 'name': 'cancel_order', 'input': {'query': 'order_id 223'}, 'id': 'tooluse_kJ4Xw5kESb6KN0RlnhUeCQ'}]\n",
      "Tool Calls:\n",
      "  cancel_order (tooluse_kJ4Xw5kESb6KN0RlnhUeCQ)\n",
      " Call ID: tooluse_kJ4Xw5kESb6KN0RlnhUeCQ\n",
      "  Args:\n",
      "    query: order_id 223\n",
      "@@@ Debug @@@: currently in cancel_order\n",
      "223\n",
      "223\n",
      "@@@ About to cancel order_id: 223\n",
      "=================================\u001b[1m Tool Message \u001b[0m=================================\n",
      "Name: cancel_order\n",
      "\n",
      "{\"order_status\": \"Order stands cancelled\"}\n",
      "==================================\u001b[1m Ai Message \u001b[0m==================================\n",
      "\n",
      "Okay, I have successfully cancelled the order with ID 223. The order status is now \"Order stands cancelled\".\n"
     ]
    }
   ],
   "source": [
    "# Query the workflow\n",
    "user_query = \"I wish to cancel order_id 223\"\n",
    "for chunk in agent.stream(\n",
    "    {\"messages\": [(\"user\", user_query)]},\n",
    "    stream_mode=\"values\",\n",
    "):\n",
    "    #print(chunk)\n",
    "    chunk[\"messages\"][-1].pretty_print() "
   ]
  },
  {
   "cell_type": "code",
   "execution_count": 22,
   "id": "a35603dc-3c3e-4534-927e-23eb6f693996",
   "metadata": {
    "tags": []
   },
   "outputs": [
    {
     "name": "stdout",
     "output_type": "stream",
     "text": [
      "================================\u001b[1m Human Message \u001b[0m=================================\n",
      "\n",
      "customer_id: customer_14 : I wish to place order for item_51 with order quantity as 4 and domestic\n",
      "@@@ Debug @@@: currently in route_query_1)\n",
      "{'query': {'messages': [HumanMessage(content='customer_id: customer_14 : I wish to place order for item_51 with order quantity as 4 and domestic', additional_kwargs={}, response_metadata={}, id='90f736b4-1188-45de-8618-1041476d9497')]}, 'category': 'PlaceOrder', 'messages': [HumanMessage(content='customer_id: customer_14 : I wish to place order for item_51 with order quantity as 4 and domestic', additional_kwargs={}, response_metadata={}, id='90f736b4-1188-45de-8618-1041476d9497')]}\n",
      "================================\u001b[1m Human Message \u001b[0m=================================\n",
      "\n",
      "customer_id: customer_14 : I wish to place order for item_51 with order quantity as 4 and domestic\n",
      "@@@ Debug @@@: currently in check_inventory)\n",
      "IN STOCK\n",
      "<class 'langgraph.graph.message.MessagesState'>\n",
      "================================\u001b[1m Human Message \u001b[0m=================================\n",
      "\n",
      "customer_id: customer_14 : I wish to place order for item_51 with order quantity as 4 and domestic\n",
      "@@@ Debug @@@: currently in compute_shipping)\n",
      "150.2 local\n",
      "================================\u001b[1m Human Message \u001b[0m=================================\n",
      "\n",
      "customer_id: customer_14 : I wish to place order for item_51 with order quantity as 4 and domestic\n",
      "PAYMENT PROCESSED: {'cost': '150.20'} and order successfully placed!\n",
      "================================\u001b[1m Human Message \u001b[0m=================================\n",
      "\n",
      "customer_id: customer_14 : I wish to place order for item_51 with order quantity as 4 and domestic\n"
     ]
    }
   ],
   "source": [
    "auser_query = \"customer_id: customer_14 : I wish to place order for item_51 with order quantity as 4 and domestic\"\n",
    "for chunk in agent.stream(\n",
    "    {\"messages\": [(\"user\", auser_query)]},\n",
    "    stream_mode=\"values\",\n",
    "):\n",
    "    #print('@@@ Debug @@: printing chunk.')\n",
    "    #print(chunk)\n",
    "    chunk[\"messages\"][-1].pretty_print()"
   ]
  },
  {
   "cell_type": "code",
   "execution_count": null,
   "id": "fb1720db-fded-4dc4-ba36-14334d325364",
   "metadata": {},
   "outputs": [],
   "source": []
  }
 ],
 "metadata": {
  "kernelspec": {
   "display_name": "conda_my_python311",
   "language": "python",
   "name": "conda_my_python311"
  },
  "language_info": {
   "codemirror_mode": {
    "name": "ipython",
    "version": 3
   },
   "file_extension": ".py",
   "mimetype": "text/x-python",
   "name": "python",
   "nbconvert_exporter": "python",
   "pygments_lexer": "ipython3",
   "version": "3.11.11"
  }
 },
 "nbformat": 4,
 "nbformat_minor": 5
}
