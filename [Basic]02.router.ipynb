{
 "cells": [
  {
   "cell_type": "markdown",
   "id": "ce6fff79-25b5-4884-8aaa-e3ebb7ddd549",
   "metadata": {},
   "source": [
    "# 라우터"
   ]
  },
  {
   "cell_type": "markdown",
   "id": "a20db9a9-abd7-4872-b45a-70ab260452d0",
   "metadata": {
    "tags": []
   },
   "source": [
    "## 라우터란?\n",
    "\n",
    "사용자의 인풋에 따라서, Gen AI를 컨텍스트에 맞는 답변을 수행해야 하는지를 판단하게 할 수 있습니다.\n",
    "이러한 작업을 수행하는 것이 라우터입니다.\n",
    "그래서 사용자의 컨텍스트에 맞게 해당되는 툴로 답변을 유도하거나, LLM이 스스로 답변하는 형태로 답변하도록 합니다.\n",
    "\n",
    "이 실습예제도 사용자의 요청에 따라서 툴을 사용하거난, LLM을 통해서 직접 답변하게는 등의 수행이 제대로 되는지를 실습해 볼 예정입니다.\n",
    "\n",
    "이러한 라우터 방식이 동작하게 하기 위해서 아래의 2가지 형태를 준비할 예정입니다.\n",
    "- 우선 툴을 사용하는 노드를 구성합니다.\n",
    "- 그리고 조건부 엣지를 생성합니다. 이 조건부 엣지에서는 사용자 인풋에 따라서, 툴을 사용하게 할 것인지, LLM이 직접 답변하게 할 지 등에 대해서 라우터 역할을 수행하게 할 것입니다."
   ]
  },
  {
   "cell_type": "markdown",
   "id": "99d4a0bb-6adc-4bb8-acbf-9c7540d3741f",
   "metadata": {},
   "source": [
    "## 패키지 설치"
   ]
  },
  {
   "cell_type": "code",
   "execution_count": 9,
   "id": "ebb4fc6e-7c85-4fc8-a4a9-0c7a527c4e5b",
   "metadata": {
    "tags": []
   },
   "outputs": [],
   "source": [
    "%%capture --no-stderr\n",
    "%pip install --quiet -U langchain_core langgraph"
   ]
  },
  {
   "cell_type": "markdown",
   "id": "c8869a47-39ce-4e23-bf8f-64c8c8adfc0e",
   "metadata": {
    "tags": []
   },
   "source": [
    "## Bedrock setup"
   ]
  },
  {
   "cell_type": "code",
   "execution_count": 10,
   "id": "5b8acf5c-85fe-4d28-bd26-ae0782330cb0",
   "metadata": {
    "tags": []
   },
   "outputs": [
    {
     "data": {
      "text/plain": [
       "AIMessage(content=\"The Amazon Nova is a line of tablet computers developed and sold by Amazon. Some key details about the Amazon Nova tablets:\\n\\n- They are part of Amazon's Fire tablet lineup, which also includes the standard Fire tablets and the Fire HD tablets.\\n\\n- The Amazon Nova tablets are designed to be more premium and higher-end models compared to the standard Fire tablets.\\n\\n- They typically feature larger screen sizes, more powerful processors, more RAM, and additional storage compared to the base Fire tablets.\\n\\n- The Amazon Nova tablets run Amazon's Fire OS, which is a customized version of the Android operating system.\\n\\n- They are primarily designed to integrate with Amazon's ecosystem of services like Amazon Prime, Kindle, Alexa, and Amazon's digital content stores.\\n\\n- Some recent models in the Amazon Nova line include the Fire HD 10 Plus and the Fire HD 10 Productivity Edition, which are positioned as more advanced and capable tablets.\\n\\nSo in summary, the Amazon Nova represents Amazon's higher-end tablet offerings that sit above their standard Fire tablet models in terms of features and performance.\", additional_kwargs={}, response_metadata={'ResponseMetadata': {'RequestId': 'b2d2e840-07b8-4970-ab9e-d071784071dc', 'HTTPStatusCode': 200, 'HTTPHeaders': {'date': 'Thu, 27 Feb 2025 03:19:58 GMT', 'content-type': 'application/json', 'content-length': '1306', 'connection': 'keep-alive', 'x-amzn-requestid': 'b2d2e840-07b8-4970-ab9e-d071784071dc'}, 'RetryAttempts': 0}, 'stopReason': 'end_turn', 'metrics': {'latencyMs': 2564}}, id='run-1c7d4c35-2075-4e2d-b882-3f38ff843b09-0', usage_metadata={'input_tokens': 13, 'output_tokens': 228, 'total_tokens': 241})"
      ]
     },
     "execution_count": 10,
     "metadata": {},
     "output_type": "execute_result"
    }
   ],
   "source": [
    "import os\n",
    "import boto3\n",
    "from langchain_aws import ChatBedrockConverse\n",
    "from langchain_aws import ChatBedrock\n",
    "\n",
    "# ---- ⚠️ Update region for your AWS setup ⚠️ ----\n",
    "aws_region = os.getenv(\"AWS_REGION\")\n",
    "bedrock_client = boto3.client(\"bedrock-runtime\", region_name=aws_region)\n",
    "\n",
    "llm = ChatBedrockConverse(\n",
    "    model=\"anthropic.claude-3-haiku-20240307-v1:0\",\n",
    "    temperature=0,\n",
    "    max_tokens=None,\n",
    "    client=bedrock_client,\n",
    "    # other params...\n",
    ")\n",
    "\n",
    "llm.invoke(\"what is the Amazon Nova?\")\n"
   ]
  },
  {
   "cell_type": "markdown",
   "id": "42b31148-723b-480e-a826-951139ebb3a0",
   "metadata": {
    "tags": []
   },
   "source": [
    "## 툴 함수 생성"
   ]
  },
  {
   "cell_type": "code",
   "execution_count": 15,
   "id": "e3ba4df4-3045-49b1-9299-ced1fce14d24",
   "metadata": {
    "tags": []
   },
   "outputs": [],
   "source": [
    "def multiply(a: int, b: int) -> int:\n",
    "    \"\"\"This tool is to multiply two input argrments such as a and b.\n",
    "\n",
    "    Args:\n",
    "        a: first int\n",
    "        b: second int\n",
    "    \"\"\"\n",
    "    return a * b\n",
    "\n",
    "llm_with_tools = llm.bind_tools([multiply])"
   ]
  },
  {
   "cell_type": "markdown",
   "id": "2701c7cb-65da-4853-8fe2-2f134d7e0964",
   "metadata": {},
   "source": [
    "## 그래프 생성"
   ]
  },
  {
   "cell_type": "markdown",
   "id": "c77555a2",
   "metadata": {},
   "source": [
    "우리는 아주 쉽고 간단한 형태로 구현하는 것을 수행해 볼 것입니다.\n",
    "LangGraph에서 제공하는 `ToolNode` 패키지를 이용할 것입니다.\n",
    "툴노드를 사용하게 되면, 간단하게 생성된 툴들을 이 노드에서 처리하도록 할 수 있습니다.\n",
    "\n",
    "그리고 Langgraph에서 제공하는 `tools_condition`을 조건부 엣지에서 사용할 예정입니다.\n",
    "이 기능을 사용하게 되면, 사용자의 입력에 따라서 자동으로 어떤 툴들을 사용할지에 대해서 분기합니다."
   ]
  },
  {
   "cell_type": "code",
   "execution_count": 16,
   "id": "9a6fde4e-cceb-4426-b770-97ee4b41e9da",
   "metadata": {
    "tags": []
   },
   "outputs": [
    {
     "data": {
      "image/png": "[encoded data removed]",
      "text/plain": [
       "<IPython.core.display.Image object>"
      ]
     },
     "metadata": {},
     "output_type": "display_data"
    }
   ],
   "source": [
    "from IPython.display import Image, display\n",
    "from langgraph.graph import StateGraph, START, END\n",
    "from langgraph.graph import MessagesState\n",
    "from langgraph.prebuilt import ToolNode\n",
    "from langgraph.prebuilt import tools_condition\n",
    "\n",
    "# Node\n",
    "def tool_calling_llm(state: MessagesState):\n",
    "    return {\"messages\": [llm_with_tools.invoke(state[\"messages\"])]}\n",
    "\n",
    "# Build graph\n",
    "builder = StateGraph(MessagesState)\n",
    "builder.add_node(\"tool_calling_llm\", tool_calling_llm)\n",
    "builder.add_node(\"tools\", ToolNode([multiply]))\n",
    "builder.add_edge(START, \"tool_calling_llm\")\n",
    "builder.add_conditional_edges(\n",
    "    \"tool_calling_llm\",\n",
    "    # If the latest message (result) from assistant is a tool call -> tools_condition routes to tools\n",
    "    # If the latest message (result) from assistant is a not a tool call -> tools_condition routes to END\n",
    "    tools_condition,\n",
    ")\n",
    "builder.add_edge(\"tools\", END)\n",
    "graph = builder.compile()\n",
    "\n",
    "# View\n",
    "display(Image(graph.get_graph().draw_mermaid_png()))"
   ]
  },
  {
   "cell_type": "markdown",
   "id": "feff67f9-4daf-4067-b828-9e9676411a8f",
   "metadata": {},
   "source": [
    "## 일상적인 대화로 질의"
   ]
  },
  {
   "cell_type": "code",
   "execution_count": 17,
   "id": "11b608c5-0c15-4fb7-aa24-80ce5774fb85",
   "metadata": {
    "tags": []
   },
   "outputs": [
    {
     "name": "stdout",
     "output_type": "stream",
     "text": [
      "================================\u001b[1m Human Message \u001b[0m=================================\n",
      "\n",
      "안녕 잘 지내?\n",
      "==================================\u001b[1m Ai Message \u001b[0m==================================\n",
      "\n",
      "네, 저도 잘 지내고 있습니다. 오늘 날씨가 좋아서 기분이 좋네요. 어떤 계획이 있으신가요? 함께 즐거운 시간을 보내면 좋겠습니다.\n"
     ]
    }
   ],
   "source": [
    "from langchain_core.messages import HumanMessage\n",
    "messages = [HumanMessage(content=\"안녕 잘 지내?\")]\n",
    "messages = graph.invoke({\"messages\": messages})\n",
    "for m in messages['messages']:\n",
    "    m.pretty_print()"
   ]
  },
  {
   "cell_type": "markdown",
   "id": "5c364396-f617-48d0-85a9-4151514d3baa",
   "metadata": {},
   "source": [
    "## 곱셈을 문의하는 질의"
   ]
  },
  {
   "cell_type": "code",
   "execution_count": 25,
   "id": "43782c33-0f41-47f2-ae38-ddb2cd4ba6f8",
   "metadata": {},
   "outputs": [
    {
     "name": "stdout",
     "output_type": "stream",
     "text": [
      "================================\u001b[1m Human Message \u001b[0m=================================\n",
      "\n",
      "134 곱하기 1435를 계산하면 얼마야?\n",
      "==================================\u001b[1m Ai Message \u001b[0m==================================\n",
      "\n",
      "[{'type': 'tool_use', 'name': 'multiply', 'input': {'a': 134, 'b': 1435}, 'id': 'tooluse_FYpRmFUlTz6BQRNDuX6Fpg'}]\n",
      "Tool Calls:\n",
      "  multiply (tooluse_FYpRmFUlTz6BQRNDuX6Fpg)\n",
      " Call ID: tooluse_FYpRmFUlTz6BQRNDuX6Fpg\n",
      "  Args:\n",
      "    a: 134\n",
      "    b: 1435\n",
      "=================================\u001b[1m Tool Message \u001b[0m=================================\n",
      "Name: multiply\n",
      "\n",
      "192290\n"
     ]
    }
   ],
   "source": [
    "messages = [HumanMessage(content=\"134 곱하기 1435를 계산하면 얼마야?\")]\n",
    "messages = graph.invoke({\"messages\": messages})\n",
    "for m in messages['messages']:\n",
    "    m.pretty_print()"
   ]
  },
  {
   "cell_type": "code",
   "execution_count": null,
   "id": "03fa1228-b237-4b50-87a0-9ddedcbff386",
   "metadata": {},
   "outputs": [],
   "source": []
  }
 ],
 "metadata": {
  "kernelspec": {
   "display_name": "conda_my_python311",
   "language": "python",
   "name": "conda_my_python311"
  },
  "language_info": {
   "codemirror_mode": {
    "name": "ipython",
    "version": 3
   },
   "file_extension": ".py",
   "mimetype": "text/x-python",
   "name": "python",
   "nbconvert_exporter": "python",
   "pygments_lexer": "ipython3",
   "version": "3.11.11"
  }
 },
 "nbformat": 4,
 "nbformat_minor": 5
}
