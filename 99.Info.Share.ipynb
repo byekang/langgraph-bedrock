{
 "cells": [
  {
   "cell_type": "markdown",
   "id": "793c4840-a712-4932-be84-ec9c97a3d547",
   "metadata": {},
   "source": [
    "# pygraphviz"
   ]
  },
  {
   "cell_type": "code",
   "execution_count": null,
   "id": "2cc281ac-6e51-43c2-89dc-a9eccea092a6",
   "metadata": {},
   "outputs": [],
   "source": [
    "%%capture --no-stderr\n",
    "%pip install pygraphviz"
   ]
  },
  {
   "cell_type": "code",
   "execution_count": null,
   "id": "15322d66-b351-4c25-a457-12aff62b4e70",
   "metadata": {},
   "outputs": [],
   "source": [
    "try:\n",
    "    display(Image(app.get_graph().draw_png()))\n",
    "except ImportError:\n",
    "    print(\n",
    "        \"You likely need to install dependencies for pygraphviz, see more here https://github.com/pygraphviz/pygraphviz/blob/main/INSTALL.txt\"\n",
    "    )"
   ]
  },
  {
   "cell_type": "code",
   "execution_count": null,
   "id": "3ab8cdd1-a2a5-4d67-8ea5-8533d255bc9f",
   "metadata": {},
   "outputs": [],
   "source": []
  }
 ],
 "metadata": {
  "kernelspec": {
   "display_name": "Python 3 (ipykernel)",
   "language": "python",
   "name": "python3"
  },
  "language_info": {
   "codemirror_mode": {
    "name": "ipython",
    "version": 3
   },
   "file_extension": ".py",
   "mimetype": "text/x-python",
   "name": "python",
   "nbconvert_exporter": "python",
   "pygments_lexer": "ipython3",
   "version": "3.11.11"
  }
 },
 "nbformat": 4,
 "nbformat_minor": 5
}
